{
 "cells": [
  {
   "cell_type": "code",
   "execution_count": 1,
   "metadata": {},
   "outputs": [],
   "source": [
    "import json\n",
    "import glob\n",
    "import nltk\n",
    "import random"
   ]
  },
  {
   "cell_type": "code",
   "execution_count": 2,
   "metadata": {},
   "outputs": [],
   "source": [
    "json_files = glob.glob(\"kickstarter_data/data*\")\n",
    "projects = []\n",
    "for json_file in json_files:\n",
    "    projects += json.load(open(json_file,'r'))"
   ]
  },
  {
   "cell_type": "code",
   "execution_count": 3,
   "metadata": {},
   "outputs": [],
   "source": [
    "all_words = []\n",
    "for project in projects:\n",
    "    for w in project['text_feats']:\n",
    "        all_words.append(w.lower())"
   ]
  },
  {
   "cell_type": "code",
   "execution_count": 4,
   "metadata": {},
   "outputs": [
    {
     "name": "stdout",
     "output_type": "stream",
     "text": [
      "(u\"'s\", 35395)\n",
      "(u'new', 27826)\n",
      "(u'help', 26077)\n",
      "(u'make', 24328)\n",
      "(u'', 20177)\n",
      "(u'book', 20031)\n",
      "(u'album', 18393)\n",
      "(u'art', 17972)\n",
      "(u'world', 16719)\n",
      "(u'film', 15740)\n",
      "(u'create', 14877)\n",
      "(u'music', 14573)\n",
      "(u'first', 14327)\n",
      "(u'project', 14023)\n",
      "(u'game', 12586)\n",
      "(u'life', 12344)\n",
      "(u'story', 11719)\n",
      "(u'one', 11695)\n",
      "(u'need', 11484)\n",
      "(u'get', 10576)\n",
      "(u'love', 10463)\n",
      "(u'design', 9786)\n",
      "(u'us', 9254)\n",
      "(u'good', 9092)\n",
      "(u'record', 8969)\n",
      "(u'want', 8898)\n",
      "(u'series', 8817)\n",
      "(u'pin', 8723)\n",
      "(u'bring', 8617)\n",
      "(u'short', 8470)\n",
      "(u'time', 8277)\n",
      "(u'feature', 8101)\n",
      "(u'card', 7880)\n",
      "(u'show', 7641)\n",
      "(u'year', 7611)\n",
      "(u'cancel', 7546)\n",
      "(u'work', 7466)\n",
      "(u'people', 7449)\n",
      "(u'video', 7243)\n",
      "(u'go', 7230)\n",
      "(u'artist', 7225)\n",
      "(u'use', 7050)\n",
      "(u'print', 7045)\n",
      "(u'fund', 6849)\n",
      "(u'inspire', 6685)\n",
      "(u'de', 6683)\n",
      "(u'enamel', 6608)\n",
      "(u'food', 6604)\n",
      "(u'live', 6438)\n",
      "(u'base', 6365)\n",
      "(u'take', 6360)\n",
      "(u'child', 6131)\n",
      "(u'...', 6078)\n",
      "(u'play', 5977)\n",
      "(u'comic', 5858)\n",
      "(u'community', 5800)\n",
      "(u'support', 5690)\n",
      "(u'build', 5561)\n",
      "(u'full', 5521)\n",
      "(u'dance', 5501)\n",
      "(u'song', 5457)\n",
      "(u'man', 5440)\n",
      "(u'set', 5415)\n",
      "(u'debut', 5385)\n",
      "(u'like', 5362)\n",
      "(u'2', 5354)\n",
      "(u'adventure', 5346)\n",
      "(u'come', 5289)\n",
      "(u'home', 5262)\n",
      "(u'woman', 5247)\n",
      "(u'studio', 5233)\n",
      "(u'two', 5210)\n",
      "(u'1', 5148)\n",
      "(u'ep', 5140)\n",
      "(u'original', 5128)\n",
      "0\n"
     ]
    }
   ],
   "source": [
    "all_words = nltk.FreqDist(all_words)\n",
    "for word in all_words.most_common(75):\n",
    "    print(word[0], word[1])"
   ]
  },
  {
   "cell_type": "code",
   "execution_count": null,
   "metadata": {},
   "outputs": [],
   "source": []
  }
 ],
 "metadata": {
  "kernelspec": {
   "display_name": "Python 2",
   "language": "python",
   "name": "python2"
  },
  "language_info": {
   "codemirror_mode": {
    "name": "ipython",
    "version": 2
   },
   "file_extension": ".py",
   "mimetype": "text/x-python",
   "name": "python",
   "nbconvert_exporter": "python",
   "pygments_lexer": "ipython2",
   "version": "2.7.13"
  }
 },
 "nbformat": 4,
 "nbformat_minor": 2
}
