{
 "cells": [
  {
   "cell_type": "code",
   "execution_count": 2,
   "metadata": {},
   "outputs": [],
   "source": [
    "import json\n",
    "import glob\n",
    "import nltk\n",
    "import random"
   ]
  },
  {
   "cell_type": "code",
   "execution_count": 3,
   "metadata": {},
   "outputs": [],
   "source": [
    "json_files = glob.glob(\"kickstarter_data/data*\")\n",
    "projects = []\n",
    "for json_file in json_files:\n",
    "    projects += json.load(open(json_file,'r'))"
   ]
  },
  {
   "cell_type": "code",
   "execution_count": 78,
   "metadata": {},
   "outputs": [
    {
     "name": "stdout",
     "output_type": "stream",
     "text": [
      "A Mystery Shared... Exploring magic and the socail dynamics of sharing mystery. Pushing possibilities for magicians and mystery performers.\n",
      "[u'mystery', u'share', u'...', u'explore', u'magic', u'socail', u'dynamic', u'sharing', u'mystery', u'push', u'possibility', u'magician', u'mystery', u'performer']\n",
      "---\n",
      "[u'publishing', u'nonfiction']\n",
      "686.90664525 $ /  654.196805 $\n"
     ]
    }
   ],
   "source": [
    "i = random.randint(0,200000) # Choose and print out a random sample from the set\n",
    "\n",
    "print projects[i]['text']\n",
    "print projects[i]['text_feats']\n",
    "print \"---\"\n",
    "print projects[i]['category']\n",
    "print projects[i]['pledged'], \"$ / \", projects[i]['goal'], \"$\""
   ]
  },
  {
   "cell_type": "code",
   "execution_count": 79,
   "metadata": {},
   "outputs": [],
   "source": [
    "all_words = []\n",
    "all_bigrams = []\n",
    "all_trigrams = []\n",
    "for project in projects:\n",
    "    if 'publishing' not in project['category']: # change this to check out one sub-category\n",
    "        continue\n",
    "        \n",
    "    prev_prev = ''\n",
    "    prev_word = '<SOS>' #start of sentence\n",
    "    for w in project['text_feats']:\n",
    "        if w == \"'s\" or w == '’s'.decode('utf-8') or w == '': # There are some empty strings thrown in. \n",
    "            continue\n",
    "        all_words.append(w)\n",
    "        all_bigrams.append(prev_word + \" \" + w)\n",
    "        if prev_prev != '':\n",
    "            all_trigrams.append(prev_prev + \" \" + prev_word + \" \" + w)\n",
    "        prev_prev = prev_word\n",
    "        prev_word = w"
   ]
  },
  {
   "cell_type": "code",
   "execution_count": 80,
   "metadata": {},
   "outputs": [
    {
     "name": "stdout",
     "output_type": "stream",
     "text": [
      "-- UNIGRAMS --\n",
      "book \t10566\n",
      "story \t3312\n",
      "child \t2644\n",
      "magazine \t2505\n",
      "art \t2190\n",
      "help \t2177\n",
      "new \t2079\n",
      "life \t1882\n",
      "novel \t1687\n",
      "world \t1660\n",
      "poetry \t1549\n",
      "publish \t1536\n",
      "love \t1349\n",
      "first \t1333\n",
      "one \t1210\n",
      "\n",
      "-- BIGRAMS --\n",
      "child book \t1246\n",
      "art book \t504\n",
      "picture book \t476\n",
      "short story \t426\n",
      "help us \t314\n",
      "science fiction \t282\n",
      "book series \t252\n",
      "fantasy novel \t231\n",
      "young adult \t225\n",
      "coloring book \t225\n",
      "first book \t216\n",
      "sci fi \t205\n",
      "poetry book \t200\n",
      "self publish \t198\n",
      "need help \t184\n",
      "\n",
      "-- TRIGRAMS --\n",
      "child picture book \t170\n",
      "coffee table book \t132\n",
      "illustrate child book \t99\n",
      "science fiction fantasy \t65\n",
      "child book series \t59\n",
      "collection short story \t54\n",
      "adult coloring book \t50\n",
      "book child book \t50\n",
      "new york city \t45\n",
      "young adult novel \t44\n",
      "<SOS> make 100 \t42\n",
      "child book child \t40\n",
      "publish first book \t40\n",
      "art book feature \t39\n",
      "help us publish \t37\n"
     ]
    }
   ],
   "source": [
    "print \"-- UNIGRAMS --\"\n",
    "all_words = nltk.FreqDist(all_words)\n",
    "for word in all_words.most_common(15):\n",
    "    print word[0], \"\\t\", word[1]\n",
    "\n",
    "print\n",
    "print \"-- BIGRAMS --\"\n",
    "all_bigrams = nltk.FreqDist(all_bigrams)\n",
    "for bigram in all_bigrams.most_common(15):\n",
    "    print bigram[0], \"\\t\", bigram[1]\n",
    "    \n",
    "print\n",
    "print \"-- TRIGRAMS --\"\n",
    "all_trigrams = nltk.FreqDist(all_trigrams)\n",
    "for trigram in all_trigrams.most_common(15):\n",
    "    print trigram[0], \"\\t\", trigram[1]"
   ]
  },
  {
   "cell_type": "code",
   "execution_count": 57,
   "metadata": {},
   "outputs": [
    {
     "name": "stdout",
     "output_type": "stream",
     "text": [
      "89\n"
     ]
    }
   ],
   "source": [
    "print all_bigrams['artificial intelligence']"
   ]
  },
  {
   "cell_type": "code",
   "execution_count": null,
   "metadata": {},
   "outputs": [],
   "source": []
  }
 ],
 "metadata": {
  "kernelspec": {
   "display_name": "Python 2",
   "language": "python",
   "name": "python2"
  },
  "language_info": {
   "codemirror_mode": {
    "name": "ipython",
    "version": 2
   },
   "file_extension": ".py",
   "mimetype": "text/x-python",
   "name": "python",
   "nbconvert_exporter": "python",
   "pygments_lexer": "ipython2",
   "version": "2.7.13"
  }
 },
 "nbformat": 4,
 "nbformat_minor": 2
}
