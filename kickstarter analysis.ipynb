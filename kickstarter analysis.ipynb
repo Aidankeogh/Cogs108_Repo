{
 "cells": [
  {
   "cell_type": "code",
   "execution_count": 96,
   "metadata": {},
   "outputs": [],
   "source": [
    "import json\n",
    "import glob\n",
    "import nltk\n",
    "import random"
   ]
  },
  {
   "cell_type": "code",
   "execution_count": 97,
   "metadata": {},
   "outputs": [
    {
     "name": "stdout",
     "output_type": "stream",
     "text": [
      "208436\n"
     ]
    }
   ],
   "source": [
    "json_files = glob.glob(\"kickstarter_data/data*\")\n",
    "projects = []\n",
    "for json_file in json_files:\n",
    "    projects += json.load(open(json_file,'r'))\n",
    "print len(projects)"
   ]
  },
  {
   "cell_type": "code",
   "execution_count": 93,
   "metadata": {},
   "outputs": [
    {
     "name": "stdout",
     "output_type": "stream",
     "text": [
      "BLINDSAVE: protective gear that adjusts its shape to body World’s first protective gear in sports that adjusts itself to the player’s body and ensures superior protection and comfort.\n",
      "[u'blindsave', u'protective', u'gear', u'adjust', u'shape', u'body', u'world', u'\\u2019s', u'first', u'', u'protective', u'gear', u'sport', u'adjust', u'player', u'\\u2019s', u'body', u'ensure', u'superior', u'protection', u'comfort']\n",
      "---\n",
      "[u'technology', u'wearables']\n",
      "25012.0 $ /  30000.0 $\n"
     ]
    }
   ],
   "source": [
    "i = random.randint(0,200000) # Choose and print out a random sample from the set\n",
    "\n",
    "print projects[i]['text']\n",
    "print projects[i]['text_feats']\n",
    "print \"---\"\n",
    "print projects[i]['category']\n",
    "\n",
    "print projects[i]['pledged'], \"$ / \", projects[i]['goal'], \"$\""
   ]
  },
  {
   "cell_type": "code",
   "execution_count": 94,
   "metadata": {},
   "outputs": [],
   "source": [
    "def most_common_by_category(category,n=15, do_print = True):\n",
    "    all_words = []\n",
    "    all_bigrams = []\n",
    "    all_trigrams = []\n",
    "    for project in projects:\n",
    "        if category != 'all' and category not in project['category']: \n",
    "            # change this to check out a different sub-category, 'all' will check the entire thing.\n",
    "            continue\n",
    "\n",
    "        prev_prev = ''\n",
    "        prev_word = '<SOS>' #start of sentence\n",
    "        for w in project['text_feats']:\n",
    "            if w == \"'s\" or w == '’s'.decode('utf-8') or w == '': # There are some empty strings thrown in. \n",
    "                continue\n",
    "            all_words.append(w)\n",
    "            all_bigrams.append(prev_word + \" \" + w)\n",
    "            if prev_prev != '':\n",
    "                all_trigrams.append(prev_prev + \" \" + prev_word + \" \" + w)\n",
    "            prev_prev = prev_word\n",
    "            prev_word = w\n",
    "    \n",
    "    if do_print:\n",
    "        print \"-- UNIGRAMS --\"\n",
    "        all_words = nltk.FreqDist(all_words)\n",
    "        for word in all_words.most_common(n):\n",
    "            print word[0], \"\\t\", word[1]\n",
    "\n",
    "        print\n",
    "        print \"-- BIGRAMS --\"\n",
    "        all_bigrams = nltk.FreqDist(all_bigrams)\n",
    "        for bigram in all_bigrams.most_common(n):\n",
    "            print bigram[0], \"\\t\", bigram[1]\n",
    "\n",
    "        print\n",
    "        print \"-- TRIGRAMS --\"\n",
    "        all_trigrams = nltk.FreqDist(all_trigrams)\n",
    "        for trigram in all_trigrams.most_common(n):\n",
    "            print trigram[0], \"\\t\", trigram[1]"
   ]
  },
  {
   "cell_type": "code",
   "execution_count": 95,
   "metadata": {},
   "outputs": [
    {
     "name": "stdout",
     "output_type": "stream",
     "text": [
      "-- UNIGRAMS --\n",
      "app \t3460\n",
      "world \t2451\n",
      "make \t2287\n",
      "use \t2100\n",
      "3d \t1979\n",
      "first \t1928\n",
      "help \t1823\n",
      "smart \t1769\n",
      "new \t1740\n",
      "create \t1662\n",
      "design \t1548\n",
      "build \t1543\n",
      "system \t1327\n",
      "device \t1321\n",
      "easy \t1279\n",
      "\n",
      "-- BIGRAMS --\n",
      "world first \t804\n",
      "3d printer \t744\n",
      "raspberry pi \t577\n",
      "open source \t533\n",
      "3d print \t484\n",
      "mobile app \t341\n",
      "social medium \t287\n",
      "easy use \t284\n",
      "social network \t229\n",
      "real time \t221\n",
      "help us \t219\n",
      "high quality \t196\n",
      "make easy \t173\n",
      "virtual reality \t160\n",
      "next generation \t160\n",
      "\n",
      "-- TRIGRAMS --\n",
      "<SOS> world first \t77\n",
      "world first smart \t56\n",
      "<SOS> 3d print \t42\n",
      "social medium platform \t41\n",
      "arduino raspberry pi \t38\n",
      "desktop 3d printer \t35\n",
      "<SOS> raspberry pi \t31\n",
      "raspberry pi arduino \t30\n",
      "social medium app \t30\n",
      "3d print filament \t29\n",
      "raspberry pi zero \t29\n",
      "app allow user \t28\n",
      "board raspberry pi \t26\n",
      "sla 3d printer \t26\n",
      "<SOS> 3d printer \t26\n"
     ]
    }
   ],
   "source": [
    "most_common_by_category('technology')"
   ]
  },
  {
   "cell_type": "code",
   "execution_count": null,
   "metadata": {},
   "outputs": [],
   "source": []
  },
  {
   "cell_type": "code",
   "execution_count": null,
   "metadata": {},
   "outputs": [],
   "source": []
  }
 ],
 "metadata": {
  "kernelspec": {
   "display_name": "Python 2",
   "language": "python",
   "name": "python2"
  },
  "language_info": {
   "codemirror_mode": {
    "name": "ipython",
    "version": 2
   },
   "file_extension": ".py",
   "mimetype": "text/x-python",
   "name": "python",
   "nbconvert_exporter": "python",
   "pygments_lexer": "ipython2",
   "version": "2.7.13"
  }
 },
 "nbformat": 4,
 "nbformat_minor": 2
}
