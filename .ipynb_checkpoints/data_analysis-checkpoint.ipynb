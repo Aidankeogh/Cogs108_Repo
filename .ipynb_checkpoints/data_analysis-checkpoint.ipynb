{
 "cells": [
  {
   "cell_type": "code",
   "execution_count": 1,
   "metadata": {
    "collapsed": true
   },
   "outputs": [],
   "source": [
    "import json\n",
    "import glob\n",
    "import nltk\n",
    "import random"
   ]
  },
  {
   "cell_type": "markdown",
   "metadata": {},
   "source": [
    "- **most_common_by_category(string *category*, int *n*, boolean *do_print*)**\n",
    "    This function will find and print the 'n' most common unigrams, \n",
    "    bigrams, and trigrams in the given category\n",
    "- **Return:**\n",
    "    A dictionary containing all unigrams, bigrams, and trigrams, \n",
    "    where the corresponding keys are \"uni\", \"bi\" and \"tri\""
   ]
  },
  {
   "cell_type": "code",
   "execution_count": 2,
   "metadata": {
    "collapsed": true
   },
   "outputs": [],
   "source": [
    "def most_common_by_category(category, n=15, do_print=True):\n",
    "    grams = {}\n",
    "    \n",
    "    all_words = []\n",
    "    all_bigrams = []\n",
    "    all_trigrams = []\n",
    "    \n",
    "    for project in projects:\n",
    "        \n",
    "        # Change this to check out a different sub-category, \n",
    "        # 'all' will check the entire thing\n",
    "        if category != 'all' and category not in project['category']: \n",
    "            continue\n",
    "\n",
    "        prev_prev = ''\n",
    "        prev_word = '<SOS>' # Start of sentence\n",
    "        \n",
    "        for w in project['text_feats']:\n",
    "            # Ignore empty strings and apostrophe+s ending\n",
    "            if w == \"'s\" or w == '’s'.decode('utf-8') or w == '':  \n",
    "                continue\n",
    "                \n",
    "            all_words.append(w)\n",
    "            all_bigrams.append(prev_word + \" \" + w)\n",
    "            \n",
    "            if prev_prev != '':\n",
    "                all_trigrams.append(prev_prev + \" \" + prev_word + \" \" + w)\n",
    "                \n",
    "            prev_prev = prev_word\n",
    "            prev_word = w\n",
    "    \n",
    "    grams[\"uni\"] = all_words\n",
    "    grams[\"bi\"]  = all_bigrams\n",
    "    grams[\"tri\"] = all_trigrams\n",
    "    \n",
    "    if do_print:\n",
    "        print \"-- UNIGRAMS --\"\n",
    "        all_words = nltk.FreqDist(all_words)\n",
    "        \n",
    "        for word in all_words.most_common(n):\n",
    "            print word[0], \"\\t\", word[1]\n",
    "\n",
    "        print\n",
    "        print \"-- BIGRAMS --\"\n",
    "        all_bigrams = nltk.FreqDist(all_bigrams)\n",
    "        \n",
    "        for bigram in all_bigrams.most_common(n):\n",
    "            print bigram[0], \"\\t\", bigram[1]\n",
    "\n",
    "        print\n",
    "        print \"-- TRIGRAMS --\"\n",
    "        all_trigrams = nltk.FreqDist(all_trigrams)\n",
    "        \n",
    "        for trigram in all_trigrams.most_common(n):\n",
    "            print trigram[0], \"\\t\", trigram[1]\n",
    "    \n",
    "    return grams"
   ]
  },
  {
   "cell_type": "code",
   "execution_count": 3,
   "metadata": {},
   "outputs": [
    {
     "name": "stdout",
     "output_type": "stream",
     "text": [
      "208436\n"
     ]
    }
   ],
   "source": [
    "projects = []\n",
    "\n",
    "# Read in data\n",
    "json_files = glob.glob(\"kickstarter_data/data*\")\n",
    "\n",
    "for json_file in json_files:\n",
    "    projects += json.load(open(json_file, 'r'))\n",
    "    \n",
    "# Number of projects read-in\n",
    "print len(projects)"
   ]
  },
  {
   "cell_type": "code",
   "execution_count": 4,
   "metadata": {},
   "outputs": [
    {
     "name": "stdout",
     "output_type": "stream",
     "text": [
      "Schatten - der Kurzfilm Als der Notrufdisponent Erik eines Tages einen dringenden Notruf entgegennimmt, ahnt er nicht was für Folgen dieser haben wird.\n",
      "\n",
      "[u'schatten', u'der', u'kurzfilm', u'al', u'der', u'notrufdisponent', u'erik', u'eine', u'tage', u'einen', u'dringenden', u'notruf', u'entgegennimmt', u'ahnt', u'er', u'nicht', u'f\\xfcr', u'folgen', u'dieser', u'haben', u'wird']\n",
      "\n",
      "[u'film & video', u'shorts']\n",
      "\n",
      "2306.08125827 $ /  2264.18256 $\n"
     ]
    }
   ],
   "source": [
    "# Choose and print out a random sample from the set\n",
    "i = random.randint(0, len(projects)) \n",
    "\n",
    "print projects[i]['text']\n",
    "print\n",
    "print projects[i]['text_feats']\n",
    "print\n",
    "print projects[i]['category']\n",
    "print\n",
    "print projects[i]['pledged'], \"$ / \", projects[i]['goal'], \"$\""
   ]
  },
  {
   "cell_type": "code",
   "execution_count": 5,
   "metadata": {},
   "outputs": [
    {
     "name": "stdout",
     "output_type": "stream",
     "text": [
      "-- UNIGRAMS --\n",
      "app \t3460\n",
      "world \t2451\n",
      "make \t2287\n",
      "use \t2100\n",
      "3d \t1979\n",
      "first \t1928\n",
      "help \t1823\n",
      "smart \t1769\n",
      "new \t1740\n",
      "create \t1662\n",
      "design \t1548\n",
      "build \t1543\n",
      "system \t1327\n",
      "device \t1321\n",
      "easy \t1279\n",
      "\n",
      "-- BIGRAMS --\n",
      "world first \t804\n",
      "3d printer \t744\n",
      "raspberry pi \t577\n",
      "open source \t533\n",
      "3d print \t484\n",
      "mobile app \t341\n",
      "social medium \t287\n",
      "easy use \t284\n",
      "social network \t229\n",
      "real time \t221\n",
      "help us \t219\n",
      "high quality \t196\n",
      "make easy \t173\n",
      "next generation \t160\n",
      "virtual reality \t160\n",
      "\n",
      "-- TRIGRAMS --\n",
      "<SOS> world first \t77\n",
      "world first smart \t56\n",
      "<SOS> 3d print \t42\n",
      "social medium platform \t41\n",
      "arduino raspberry pi \t38\n",
      "desktop 3d printer \t35\n",
      "<SOS> raspberry pi \t31\n",
      "raspberry pi arduino \t30\n",
      "social medium app \t30\n",
      "3d print filament \t29\n",
      "raspberry pi zero \t29\n",
      "app allow user \t28\n",
      "board raspberry pi \t26\n",
      "sla 3d printer \t26\n",
      "<SOS> 3d printer \t26\n"
     ]
    }
   ],
   "source": [
    "# Find and print most common uni-, bi-, and trigrams in given \n",
    "# category\n",
    "grams = most_common_by_category('technology')"
   ]
  },
  {
   "cell_type": "code",
   "execution_count": null,
   "metadata": {
    "collapsed": true
   },
   "outputs": [],
   "source": []
  }
 ],
 "metadata": {
  "kernelspec": {
   "display_name": "Python 2",
   "language": "python",
   "name": "python2"
  },
  "language_info": {
   "codemirror_mode": {
    "name": "ipython",
    "version": 2
   },
   "file_extension": ".py",
   "mimetype": "text/x-python",
   "name": "python",
   "nbconvert_exporter": "python",
   "pygments_lexer": "ipython2",
   "version": "2.7.15"
  }
 },
 "nbformat": 4,
 "nbformat_minor": 2
}
