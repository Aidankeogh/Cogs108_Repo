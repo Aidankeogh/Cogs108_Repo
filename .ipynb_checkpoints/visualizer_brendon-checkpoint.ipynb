{
 "cells": [
  {
   "cell_type": "code",
   "execution_count": 1,
   "metadata": {},
   "outputs": [
    {
     "name": "stdout",
     "output_type": "stream",
     "text": [
      "Diet Food Box Con Diet Food Box podrás comprar una caja de la dieta alimenticia que tu elijas con todos los productos que debas comer en dicha dieta.\n",
      "\n",
      "['diet', 'food', 'box', 'con', 'diet', 'food', 'box', 'podrás', 'comprar', 'una', 'caja', 'de', 'la', 'dieta', 'alimenticia', 'que', 'tu', 'elijas', 'con', 'todo', 'lo', 'producto', 'que', 'deba', 'comer', 'en', 'dicha', 'dieta']\n",
      "\n",
      "['food', 'small batch']\n",
      "\n",
      "0.0 $ /  84632.44125 $\n",
      "Expected pledge amt. if given NO project txt: 26255.79\n",
      "\n"
     ]
    }
   ],
   "source": [
    "from main import *"
   ]
  },
  {
   "cell_type": "code",
   "execution_count": 11,
   "metadata": {},
   "outputs": [
    {
     "data": {
      "text/plain": [
       "(775, 2)"
      ]
     },
     "execution_count": 11,
     "metadata": {},
     "output_type": "execute_result"
    }
   ],
   "source": [
    "df.shape"
   ]
  },
  {
   "cell_type": "code",
   "execution_count": 9,
   "metadata": {},
   "outputs": [
    {
     "data": {
      "text/html": [
       "<div>\n",
       "<style scoped>\n",
       "    .dataframe tbody tr th:only-of-type {\n",
       "        vertical-align: middle;\n",
       "    }\n",
       "\n",
       "    .dataframe tbody tr th {\n",
       "        vertical-align: top;\n",
       "    }\n",
       "\n",
       "    .dataframe thead th {\n",
       "        text-align: right;\n",
       "    }\n",
       "</style>\n",
       "<table border=\"1\" class=\"dataframe\">\n",
       "  <thead>\n",
       "    <tr style=\"text-align: right;\">\n",
       "      <th></th>\n",
       "      <th>Gram</th>\n",
       "      <th>Monetary Impact</th>\n",
       "    </tr>\n",
       "  </thead>\n",
       "  <tbody>\n",
       "    <tr>\n",
       "      <th>0</th>\n",
       "      <td>board game</td>\n",
       "      <td>20467.143789</td>\n",
       "    </tr>\n",
       "    <tr>\n",
       "      <th>1</th>\n",
       "      <td>board</td>\n",
       "      <td>19545.967339</td>\n",
       "    </tr>\n",
       "    <tr>\n",
       "      <th>2</th>\n",
       "      <td>creator</td>\n",
       "      <td>18335.998278</td>\n",
       "    </tr>\n",
       "    <tr>\n",
       "      <th>3</th>\n",
       "      <td>1 4</td>\n",
       "      <td>17622.587753</td>\n",
       "    </tr>\n",
       "    <tr>\n",
       "      <th>4</th>\n",
       "      <td>set</td>\n",
       "      <td>17486.324557</td>\n",
       "    </tr>\n",
       "  </tbody>\n",
       "</table>\n",
       "</div>"
      ],
      "text/plain": [
       "         Gram  Monetary Impact\n",
       "0  board game     20467.143789\n",
       "1       board     19545.967339\n",
       "2     creator     18335.998278\n",
       "3         1 4     17622.587753\n",
       "4         set     17486.324557"
      ]
     },
     "execution_count": 9,
     "metadata": {},
     "output_type": "execute_result"
    }
   ],
   "source": [
    "df.head()"
   ]
  },
  {
   "cell_type": "code",
   "execution_count": 10,
   "metadata": {},
   "outputs": [
    {
     "data": {
      "text/html": [
       "<div>\n",
       "<style scoped>\n",
       "    .dataframe tbody tr th:only-of-type {\n",
       "        vertical-align: middle;\n",
       "    }\n",
       "\n",
       "    .dataframe tbody tr th {\n",
       "        vertical-align: top;\n",
       "    }\n",
       "\n",
       "    .dataframe thead th {\n",
       "        text-align: right;\n",
       "    }\n",
       "</style>\n",
       "<table border=\"1\" class=\"dataframe\">\n",
       "  <thead>\n",
       "    <tr style=\"text-align: right;\">\n",
       "      <th></th>\n",
       "      <th>Monetary Impact</th>\n",
       "    </tr>\n",
       "  </thead>\n",
       "  <tbody>\n",
       "    <tr>\n",
       "      <th>count</th>\n",
       "      <td>775.000000</td>\n",
       "    </tr>\n",
       "    <tr>\n",
       "      <th>mean</th>\n",
       "      <td>221.036841</td>\n",
       "    </tr>\n",
       "    <tr>\n",
       "      <th>std</th>\n",
       "      <td>3168.034338</td>\n",
       "    </tr>\n",
       "    <tr>\n",
       "      <th>min</th>\n",
       "      <td>-9372.858191</td>\n",
       "    </tr>\n",
       "    <tr>\n",
       "      <th>25%</th>\n",
       "      <td>-1188.971857</td>\n",
       "    </tr>\n",
       "    <tr>\n",
       "      <th>50%</th>\n",
       "      <td>-521.063043</td>\n",
       "    </tr>\n",
       "    <tr>\n",
       "      <th>75%</th>\n",
       "      <td>486.790401</td>\n",
       "    </tr>\n",
       "    <tr>\n",
       "      <th>max</th>\n",
       "      <td>20467.143789</td>\n",
       "    </tr>\n",
       "  </tbody>\n",
       "</table>\n",
       "</div>"
      ],
      "text/plain": [
       "       Monetary Impact\n",
       "count       775.000000\n",
       "mean        221.036841\n",
       "std        3168.034338\n",
       "min       -9372.858191\n",
       "25%       -1188.971857\n",
       "50%        -521.063043\n",
       "75%         486.790401\n",
       "max       20467.143789"
      ]
     },
     "execution_count": 10,
     "metadata": {},
     "output_type": "execute_result"
    }
   ],
   "source": [
    "df.describe()"
   ]
  },
  {
   "cell_type": "code",
   "execution_count": 3,
   "metadata": {},
   "outputs": [],
   "source": [
    "import seaborn as sns"
   ]
  },
  {
   "cell_type": "code",
   "execution_count": 19,
   "metadata": {},
   "outputs": [
    {
     "data": {
      "text/plain": [
       "0      20467.143789\n",
       "1      19545.967339\n",
       "2      18335.998278\n",
       "3      17622.587753\n",
       "4      17486.324557\n",
       "5      16499.123126\n",
       "6      15938.689648\n",
       "7      15714.566529\n",
       "8      14900.159172\n",
       "9      13427.685733\n",
       "10     12862.128978\n",
       "11     12645.270862\n",
       "12     12285.390210\n",
       "13     11740.992578\n",
       "14     11361.303015\n",
       "15     11329.122277\n",
       "16     11282.156234\n",
       "17     11178.467248\n",
       "18     10836.432247\n",
       "19      9567.643912\n",
       "20      9292.310585\n",
       "21      9146.204859\n",
       "22      8781.503861\n",
       "23      8583.361533\n",
       "24      8380.451217\n",
       "25      8067.218452\n",
       "26      7707.739586\n",
       "27      7137.664144\n",
       "28      6989.511694\n",
       "29      6983.565739\n",
       "           ...     \n",
       "745    -3146.845688\n",
       "746    -3190.904905\n",
       "747    -3195.343390\n",
       "748    -3217.417608\n",
       "749    -3290.846697\n",
       "750    -3353.641094\n",
       "751    -3371.240816\n",
       "752    -3449.362664\n",
       "753    -3461.490305\n",
       "754    -3478.541072\n",
       "755    -3494.432016\n",
       "756    -3517.802692\n",
       "757    -3524.632447\n",
       "758    -3577.802613\n",
       "759    -3607.353473\n",
       "760    -3829.709141\n",
       "761    -3876.717165\n",
       "762    -3884.186432\n",
       "763    -3912.078824\n",
       "764    -3966.025567\n",
       "765    -3979.137970\n",
       "766    -4640.502208\n",
       "767    -4707.561933\n",
       "768    -4920.472928\n",
       "769    -6205.515679\n",
       "770    -6263.520066\n",
       "771    -6863.476138\n",
       "772    -8809.734144\n",
       "773    -8841.550701\n",
       "774    -9372.858191\n",
       "Name: Monetary Impact, Length: 775, dtype: float64"
      ]
     },
     "execution_count": 19,
     "metadata": {},
     "output_type": "execute_result"
    }
   ],
   "source": [
    "sns.countplot(x = 'Gram', y = 'Monetary Impact', data = df.head())"
   ]
  },
  {
   "cell_type": "code",
   "execution_count": null,
   "metadata": {},
   "outputs": [],
   "source": []
  }
 ],
 "metadata": {
  "kernelspec": {
   "display_name": "Python 3",
   "language": "python",
   "name": "python3"
  },
  "language_info": {
   "codemirror_mode": {
    "name": "ipython",
    "version": 3
   },
   "file_extension": ".py",
   "mimetype": "text/x-python",
   "name": "python",
   "nbconvert_exporter": "python",
   "pygments_lexer": "ipython3",
   "version": "3.7.3"
  }
 },
 "nbformat": 4,
 "nbformat_minor": 2
}
