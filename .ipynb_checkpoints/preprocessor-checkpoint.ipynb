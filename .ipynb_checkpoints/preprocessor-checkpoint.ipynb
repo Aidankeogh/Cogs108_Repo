{
 "cells": [
  {
   "cell_type": "code",
   "execution_count": 1,
   "metadata": {
    "collapsed": true
   },
   "outputs": [],
   "source": [
    "import json\n",
    "import glob\n",
    "import nltk\n",
    "import random"
   ]
  },
  {
   "cell_type": "code",
   "execution_count": 2,
   "metadata": {
    "collapsed": true
   },
   "outputs": [],
   "source": [
    "# A constant for the top most useful uni-, bi-, and trigrams\n",
    "most_useful = {\"uni\": 500, \"bi\": 250, \"tri\": 25}"
   ]
  },
  {
   "cell_type": "markdown",
   "metadata": {},
   "source": [
    "**read_data()**\n",
    "- **Func Desc:**<br>\n",
    "    This function reads in the entire Kickstarter dataset from json files in the \"kickstarter_data\" directory.\n",
    "- **Return:**<br>\n",
    "    An nx5 list of projects, where n represents the total number of projects. Note that there are 5 attributes of a single project: the category, text, pledged amount, goal amount, and text_features."
   ]
  },
  {
   "cell_type": "code",
   "execution_count": 3,
   "metadata": {
    "collapsed": true
   },
   "outputs": [],
   "source": [
    "def read_data():\n",
    "    projects = []\n",
    "\n",
    "    # Read in data\n",
    "    json_files = glob.glob(\"kickstarter_data/data*\")\n",
    "\n",
    "    for json_file in json_files:\n",
    "        projects += json.load(open(json_file, 'r'))\n",
    "\n",
    "    return projects    "
   ]
  },
  {
   "cell_type": "markdown",
   "metadata": {},
   "source": [
    "**grams_by_project(*list text*)**\n",
    "- **Func Desc:**<br>\n",
    "    This function will find all the unigrams, bigrams, and trigrams in the given *text*.\n",
    "- **Return:**<br>\n",
    "    A dictionary containing all unigrams, bigrams, and trigrams, \n",
    "    where the corresponding keys are \"uni\", \"bi\" and \"tri\""
   ]
  },
  {
   "cell_type": "code",
   "execution_count": 4,
   "metadata": {
    "collapsed": true
   },
   "outputs": [],
   "source": [
    "def grams_by_project(text):\n",
    "    grams = {}\n",
    "    \n",
    "    all_words = []\n",
    "    all_bigrams = []\n",
    "    all_trigrams = []\n",
    "    \n",
    "    prev_prev = ''\n",
    "    prev_word = '<SOS>' # Start of sentence\n",
    "\n",
    "    for w in text:\n",
    "        # Ignore empty strings and apostrophe+s ending\n",
    "        if w == \"'s\" or w == '’s' or w == '':  \n",
    "            continue\n",
    "\n",
    "        all_words.append(w)\n",
    "        all_bigrams.append(prev_word + \" \" + w)\n",
    "\n",
    "        if prev_prev != '':\n",
    "            all_trigrams.append(prev_prev + \" \" + prev_word + \" \" + w)\n",
    "\n",
    "        prev_prev = prev_word\n",
    "        prev_word = w\n",
    "    \n",
    "    grams[\"uni\"] = all_words\n",
    "    grams[\"bi\"]  = all_bigrams\n",
    "    grams[\"tri\"] = all_trigrams\n",
    "    \n",
    "    return grams"
   ]
  },
  {
   "cell_type": "markdown",
   "metadata": {},
   "source": [
    "**grams_by_category(*string category*, **[optional]** *int n*, **[optional]** *boolean do_print*)**\n",
    "- **Func Desc:**<br>\n",
    "    This function will find the unigrams, bigrams, and trigrams in the given *category*. If *do_print* is set, then the *n* most common unigrams, bigrams, and trigrams will be displayed.\n",
    "- **Return:**<br>\n",
    "    A dictionary containing all unigrams, bigrams, and trigrams, \n",
    "    where the corresponding keys are \"uni\", \"bi\" and \"tri\""
   ]
  },
  {
   "cell_type": "code",
   "execution_count": 5,
   "metadata": {
    "collapsed": true
   },
   "outputs": [],
   "source": [
    "def grams_by_category(projects, category, n=15, do_print=True):\n",
    "    grams = {}\n",
    "    \n",
    "    all_words = []\n",
    "    all_bigrams = []\n",
    "    all_trigrams = []\n",
    "    \n",
    "    for project in projects:\n",
    "        \n",
    "        # Change this to check out a different sub-category, \n",
    "        # 'all' will check the entire thing\n",
    "        if category != 'all' and category not in project['category']: \n",
    "            continue\n",
    "\n",
    "        prev_prev = ''\n",
    "        prev_word = '<SOS>' # Start of sentence\n",
    "        \n",
    "        proj_grams = grams_by_project(project['text_feats'])\n",
    "            \n",
    "        all_words += proj_grams[\"uni\"]\n",
    "        all_bigrams += proj_grams[\"bi\"]\n",
    "        all_trigrams += proj_grams[\"tri\"]\n",
    "        \n",
    "    grams[\"uni\"] = nltk.FreqDist(all_words)\n",
    "    grams[\"bi\"]  = nltk.FreqDist(all_bigrams)\n",
    "    grams[\"tri\"] = nltk.FreqDist(all_trigrams)\n",
    "    \n",
    "    if do_print:\n",
    "        print(\"-- UNIGRAMS --\")\n",
    "        all_words = nltk.FreqDist(all_words)\n",
    "        \n",
    "        for word in all_words.most_common(n):\n",
    "            print(word[0], \"\\t\", word[1])\n",
    "\n",
    "        print()\n",
    "        print(\"-- BIGRAMS --\")\n",
    "        all_bigrams = nltk.FreqDist(all_bigrams)\n",
    "        \n",
    "        for bigram in all_bigrams.most_common(n):\n",
    "            print(bigram[0], \"\\t\", bigram[1])\n",
    "\n",
    "        print()\n",
    "        print(\"-- TRIGRAMS --\")\n",
    "        all_trigrams = nltk.FreqDist(all_trigrams)\n",
    "        \n",
    "        for trigram in all_trigrams.most_common(n):\n",
    "            print(trigram[0], \"\\t\", trigram[1])\n",
    "    \n",
    "    return grams"
   ]
  },
  {
   "cell_type": "markdown",
   "metadata": {},
   "source": [
    "**map_gram_to_idx(*dictionary grams*, **[optional]** num_uni, **[optional]** num_bi, **[optional]** num_tri)**\n",
    "- **Func Desc:**<br>\n",
    "    Given a dictionary of unigrams, bigrams, and trigrams, this function maps each gram to a unique index. We will later use this to vectorize the most unique uni-, bi-, and trigrams. Note that *num_uni* represents the \"n\" most common unigrams, and similarily for *num_bi* and *num_tri*.\n",
    "- **Return:**<br>\n",
    "    A dictionary containing all unigrams, bigrams, and trigrams mapped to a unique integer index."
   ]
  },
  {
   "cell_type": "code",
   "execution_count": 6,
   "metadata": {
    "collapsed": true
   },
   "outputs": [],
   "source": [
    "def map_gram_to_idx(grams_dict, num_uni=most_useful[\"uni\"], \n",
    "                      num_bi=most_useful[\"bi\"], \n",
    "                      num_tri=most_useful[\"tri\"]):\n",
    "    gram_to_idx = {}\n",
    "    count = 0\n",
    "    \n",
    "    for word, _ in grams_dict[\"uni\"].most_common(num_uni):\n",
    "        gram_to_idx[word] = count\n",
    "        count += 1\n",
    "\n",
    "    for phrase, _ in grams_dict[\"bi\"].most_common(num_bi):\n",
    "        gram_to_idx[phrase] = count\n",
    "        count += 1\n",
    "\n",
    "    for phrase, _ in grams_dict[\"tri\"].most_common(num_tri):\n",
    "        gram_to_idx[phrase] = count\n",
    "        count += 1\n",
    "        \n",
    "    return gram_to_idx"
   ]
  },
  {
   "cell_type": "markdown",
   "metadata": {},
   "source": [
    "**vectorize(*list text*, *dictionary gram_to_idx*)**\n",
    "- **Func Desc:**<br>\n",
    "    For each uni-, bi-, and trigram in *text*, this function will indicate whether each gram is present in *gram_to_idx* (1: present; 0: not present). Note that *gram_to_idx* represents a mapping of the n most common uni-, bi-, and trigrams of a particular project category.\n",
    "- **Return:**<br>\n",
    "    A list of 0s and 1s, where 0 indicates that the gram found at *gram_to_idx[i]* is not present in *text* and 1 means that the gram is present."
   ]
  },
  {
   "cell_type": "code",
   "execution_count": 7,
   "metadata": {
    "collapsed": true
   },
   "outputs": [],
   "source": [
    "def vectorize(text, gram_to_idx):\n",
    "    feats = [0] * len(gram_to_idx)    \n",
    "    proj_grams = grams_by_project(text)\n",
    "        \n",
    "    for _, grams in proj_grams.items():\n",
    "        for g in grams:\n",
    "            if g in gram_to_idx:\n",
    "                feats[gram_to_idx[g]] = 1\n",
    "                \n",
    "    return feats"
   ]
  },
  {
   "cell_type": "code",
   "execution_count": null,
   "metadata": {
    "collapsed": true
   },
   "outputs": [],
   "source": []
  }
 ],
 "metadata": {
  "kernelspec": {
   "display_name": "Python 3",
   "language": "python",
   "name": "python3"
  },
  "language_info": {
   "codemirror_mode": {
    "name": "ipython",
    "version": 3
   },
   "file_extension": ".py",
   "mimetype": "text/x-python",
   "name": "python",
   "nbconvert_exporter": "python",
   "pygments_lexer": "ipython3",
   "version": "3.6.5"
  }
 },
 "nbformat": 4,
 "nbformat_minor": 2
}
