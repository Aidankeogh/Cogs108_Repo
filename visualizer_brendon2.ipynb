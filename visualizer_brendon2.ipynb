{
 "cells": [
  {
   "cell_type": "code",
   "execution_count": 1,
   "metadata": {},
   "outputs": [
    {
     "name": "stdout",
     "output_type": "stream",
     "text": [
      "3846.829415258346\n",
      "book\n",
      "Snapcardster | the all-in-one app for magic players Use your smartphone camera to scan cards and categorize your collection with lightning speed.\n",
      "6963.9747860935 $ /  6770.595300000001 $\n",
      "\n",
      "My Sky Creator, an interactive visual game for everyone! My Sky Creator is an interactive, computer-based game using an internet connection, an open sky, a camera and your imagination.\n",
      "245.0 $ /  25000.0 $\n",
      "\n",
      "Eye Spy That A social app game for phones which pits you against your friends in trying to guess what they have spied from their camera photos.\n",
      "153.77884984 $ /  15908.15688 $\n",
      "\n",
      "Snapenger Hunt, an interactive camera based scavenger hunt. Just dreaming of dashing a classic game with a hint of the modern technology that can be enjoyed by all ages, and skill sets.\n",
      "16.0 $ /  20000.0 $\n",
      "\n",
      "Lights, Camera, Action! Movie Stars wanted!  Direct, Edit, and Act in your own Blockbuster and Share it with us.  Family Fun will never be the same!\n",
      " .\n",
      "0.0 $ /  150000.0 $\n",
      "\n",
      "Lights, Camera, Pitch: a party game for storytellers You are a film/TV producer, with 60 seconds to pitch a project based on the actors, sets and title cards in your hand!\n",
      "4366.553881488399 $ /  1130.6237919999999 $\n",
      "\n",
      "Lights, Camera, Pitch: a party game for storytellers You are a film/TV producer, with 60 seconds to pitch a project based on the actors, sets and title cards in your hand!\n",
      "4366.553881488399 $ /  1130.6237919999999 $\n",
      "\n",
      "XBGuard - A soft neoprene cover for the Xbox One Kinect Introducing the XBGuard; a soft Neoprene privacy cover for the Kinect camera.\n",
      "91.0 $ /  20000.0 $\n",
      "\n",
      "BCNU phone/tablet video game BCNU is an action game played on a phone or tablet, where the background is always different because it is live via the device camera.\n",
      "0.0 $ /  56000.0 $\n",
      "\n",
      "Crossfire MMORPG is a real world field of play game. Use maps, GPS, drones, camera to locate and \"shoot\" other players. Each game instance has user defined parameters.\n",
      "0.0 $ /  150000.0 $\n",
      "\n",
      "3D Shopping with WalkTheWeb 3D Technology! Online 3D Stores for businesses that blur 3D Games with Virtual Real-World Experiences. We just added New Menus and 3D Camera Views!\n",
      "91.0 $ /  50000.0 $\n",
      "\n",
      "Snapenger Hunt, an interactive camera based scavenger hunt. Just dreaming of dashing a classic game with a hint of the modern technology that can be enjoyed by all ages, and skill sets.\n",
      "16.0 $ /  20000.0 $\n",
      "\n",
      "To become like PewDiePie on Youtube I want to start a youtube channel and i need a good computer, camera and microphone. So if you even donate $1, that can be helpful\n",
      "75.12245 $ /  525.8571499999999 $\n",
      "\n"
     ]
    }
   ],
   "source": [
    "from main import *"
   ]
  },
  {
   "cell_type": "code",
   "execution_count": 2,
   "metadata": {},
   "outputs": [
    {
     "data": {
      "text/plain": [
       "(200, 20)"
      ]
     },
     "execution_count": 2,
     "metadata": {},
     "output_type": "execute_result"
    }
   ],
   "source": [
    "grams_df.shape"
   ]
  },
  {
   "cell_type": "code",
   "execution_count": 3,
   "metadata": {},
   "outputs": [
    {
     "data": {
      "text/html": [
       "<div>\n",
       "<style scoped>\n",
       "    .dataframe tbody tr th:only-of-type {\n",
       "        vertical-align: middle;\n",
       "    }\n",
       "\n",
       "    .dataframe tbody tr th {\n",
       "        vertical-align: top;\n",
       "    }\n",
       "\n",
       "    .dataframe thead tr th {\n",
       "        text-align: left;\n",
       "    }\n",
       "</style>\n",
       "<table border=\"1\" class=\"dataframe\">\n",
       "  <thead>\n",
       "    <tr>\n",
       "      <th></th>\n",
       "      <th colspan=\"2\" halign=\"left\">film &amp; video</th>\n",
       "      <th colspan=\"2\" halign=\"left\">music</th>\n",
       "      <th colspan=\"2\" halign=\"left\">technology</th>\n",
       "      <th colspan=\"2\" halign=\"left\">art</th>\n",
       "      <th colspan=\"2\" halign=\"left\">publishing</th>\n",
       "      <th colspan=\"2\" halign=\"left\">food</th>\n",
       "      <th colspan=\"2\" halign=\"left\">games</th>\n",
       "      <th colspan=\"2\" halign=\"left\">fashion</th>\n",
       "      <th colspan=\"2\" halign=\"left\">design</th>\n",
       "      <th colspan=\"2\" halign=\"left\">comics</th>\n",
       "    </tr>\n",
       "    <tr>\n",
       "      <th></th>\n",
       "      <th>grams</th>\n",
       "      <th>monetary_impact</th>\n",
       "      <th>grams</th>\n",
       "      <th>monetary_impact</th>\n",
       "      <th>grams</th>\n",
       "      <th>monetary_impact</th>\n",
       "      <th>grams</th>\n",
       "      <th>monetary_impact</th>\n",
       "      <th>grams</th>\n",
       "      <th>monetary_impact</th>\n",
       "      <th>grams</th>\n",
       "      <th>monetary_impact</th>\n",
       "      <th>grams</th>\n",
       "      <th>monetary_impact</th>\n",
       "      <th>grams</th>\n",
       "      <th>monetary_impact</th>\n",
       "      <th>grams</th>\n",
       "      <th>monetary_impact</th>\n",
       "      <th>grams</th>\n",
       "      <th>monetary_impact</th>\n",
       "    </tr>\n",
       "  </thead>\n",
       "  <tbody>\n",
       "    <tr>\n",
       "      <th>0</th>\n",
       "      <td>animate</td>\n",
       "      <td>7135.235238</td>\n",
       "      <td>new</td>\n",
       "      <td>1822.891730</td>\n",
       "      <td>smart</td>\n",
       "      <td>27435.877892</td>\n",
       "      <td>book</td>\n",
       "      <td>2367.053033</td>\n",
       "      <td>art</td>\n",
       "      <td>1873.881172</td>\n",
       "      <td>brewing</td>\n",
       "      <td>2554.740469</td>\n",
       "      <td>board game</td>\n",
       "      <td>21557.305512</td>\n",
       "      <td>jacket</td>\n",
       "      <td>12314.967011</td>\n",
       "      <td>versatile</td>\n",
       "      <td>17811.503941</td>\n",
       "      <td>hardcover</td>\n",
       "      <td>2816.903754</td>\n",
       "    </tr>\n",
       "    <tr>\n",
       "      <th>1</th>\n",
       "      <td>documentary</td>\n",
       "      <td>5493.637737</td>\n",
       "      <td>new album</td>\n",
       "      <td>1546.519299</td>\n",
       "      <td>first</td>\n",
       "      <td>23702.362206</td>\n",
       "      <td>museum</td>\n",
       "      <td>1970.459081</td>\n",
       "      <td>100</td>\n",
       "      <td>1857.517768</td>\n",
       "      <td>chef</td>\n",
       "      <td>2339.001652</td>\n",
       "      <td>board</td>\n",
       "      <td>19698.790745</td>\n",
       "      <td>travel</td>\n",
       "      <td>11158.286770</td>\n",
       "      <td>travel</td>\n",
       "      <td>14145.674060</td>\n",
       "      <td>volume</td>\n",
       "      <td>2062.724896</td>\n",
       "    </tr>\n",
       "    <tr>\n",
       "      <th>2</th>\n",
       "      <td>bring</td>\n",
       "      <td>4630.886784</td>\n",
       "      <td>join</td>\n",
       "      <td>1444.769866</td>\n",
       "      <td>world first</td>\n",
       "      <td>18467.685460</td>\n",
       "      <td>public</td>\n",
       "      <td>1492.968905</td>\n",
       "      <td>book</td>\n",
       "      <td>1809.411890</td>\n",
       "      <td>craft</td>\n",
       "      <td>2158.722039</td>\n",
       "      <td>1</td>\n",
       "      <td>18777.653045</td>\n",
       "      <td>pocket</td>\n",
       "      <td>10565.852604</td>\n",
       "      <td>system</td>\n",
       "      <td>14012.915866</td>\n",
       "      <td>webcomic</td>\n",
       "      <td>1876.206884</td>\n",
       "    </tr>\n",
       "    <tr>\n",
       "      <th>3</th>\n",
       "      <td>big</td>\n",
       "      <td>4168.832949</td>\n",
       "      <td>album</td>\n",
       "      <td>1416.657334</td>\n",
       "      <td>camera</td>\n",
       "      <td>18423.449401</td>\n",
       "      <td>public art</td>\n",
       "      <td>1456.449348</td>\n",
       "      <td>world</td>\n",
       "      <td>1708.607840</td>\n",
       "      <td>first</td>\n",
       "      <td>2070.667298</td>\n",
       "      <td>set</td>\n",
       "      <td>17632.378448</td>\n",
       "      <td>&lt;SOS&gt; world</td>\n",
       "      <td>9592.254897</td>\n",
       "      <td>pack</td>\n",
       "      <td>12650.402341</td>\n",
       "      <td>collection</td>\n",
       "      <td>1846.598347</td>\n",
       "    </tr>\n",
       "    <tr>\n",
       "      <th>4</th>\n",
       "      <td>back</td>\n",
       "      <td>4035.185094</td>\n",
       "      <td>studio album</td>\n",
       "      <td>1248.741242</td>\n",
       "      <td>affordable</td>\n",
       "      <td>18288.850428</td>\n",
       "      <td>art book</td>\n",
       "      <td>1439.995400</td>\n",
       "      <td>great</td>\n",
       "      <td>1673.658063</td>\n",
       "      <td>beer</td>\n",
       "      <td>1816.627258</td>\n",
       "      <td>new</td>\n",
       "      <td>14920.308219</td>\n",
       "      <td>world</td>\n",
       "      <td>8642.410582</td>\n",
       "      <td>smart</td>\n",
       "      <td>12282.747269</td>\n",
       "      <td>year</td>\n",
       "      <td>1752.314581</td>\n",
       "    </tr>\n",
       "  </tbody>\n",
       "</table>\n",
       "</div>"
      ],
      "text/plain": [
       "  film & video                         music                   technology  \\\n",
       "         grams monetary_impact         grams monetary_impact        grams   \n",
       "0      animate     7135.235238           new     1822.891730        smart   \n",
       "1  documentary     5493.637737     new album     1546.519299        first   \n",
       "2        bring     4630.886784          join     1444.769866  world first   \n",
       "3          big     4168.832949         album     1416.657334       camera   \n",
       "4         back     4035.185094  studio album     1248.741242   affordable   \n",
       "\n",
       "                          art                 publishing                  \\\n",
       "  monetary_impact       grams monetary_impact      grams monetary_impact   \n",
       "0    27435.877892        book     2367.053033        art     1873.881172   \n",
       "1    23702.362206      museum     1970.459081        100     1857.517768   \n",
       "2    18467.685460      public     1492.968905       book     1809.411890   \n",
       "3    18423.449401  public art     1456.449348      world     1708.607840   \n",
       "4    18288.850428    art book     1439.995400      great     1673.658063   \n",
       "\n",
       "      food                       games                      fashion  \\\n",
       "     grams monetary_impact       grams monetary_impact        grams   \n",
       "0  brewing     2554.740469  board game    21557.305512       jacket   \n",
       "1     chef     2339.001652       board    19698.790745       travel   \n",
       "2    craft     2158.722039           1    18777.653045       pocket   \n",
       "3    first     2070.667298         set    17632.378448  <SOS> world   \n",
       "4     beer     1816.627258         new    14920.308219        world   \n",
       "\n",
       "                      design                      comics                  \n",
       "  monetary_impact      grams monetary_impact       grams monetary_impact  \n",
       "0    12314.967011  versatile    17811.503941   hardcover     2816.903754  \n",
       "1    11158.286770     travel    14145.674060      volume     2062.724896  \n",
       "2    10565.852604     system    14012.915866    webcomic     1876.206884  \n",
       "3     9592.254897       pack    12650.402341  collection     1846.598347  \n",
       "4     8642.410582      smart    12282.747269        year     1752.314581  "
      ]
     },
     "execution_count": 3,
     "metadata": {},
     "output_type": "execute_result"
    }
   ],
   "source": [
    "grams_df.head()"
   ]
  },
  {
   "cell_type": "code",
   "execution_count": 4,
   "metadata": {},
   "outputs": [
    {
     "data": {
      "text/html": [
       "<div>\n",
       "<style scoped>\n",
       "    .dataframe tbody tr th:only-of-type {\n",
       "        vertical-align: middle;\n",
       "    }\n",
       "\n",
       "    .dataframe tbody tr th {\n",
       "        vertical-align: top;\n",
       "    }\n",
       "\n",
       "    .dataframe thead tr th {\n",
       "        text-align: left;\n",
       "    }\n",
       "</style>\n",
       "<table border=\"1\" class=\"dataframe\">\n",
       "  <thead>\n",
       "    <tr>\n",
       "      <th></th>\n",
       "      <th>film &amp; video</th>\n",
       "      <th>music</th>\n",
       "      <th>technology</th>\n",
       "      <th>art</th>\n",
       "      <th>publishing</th>\n",
       "      <th>food</th>\n",
       "      <th>games</th>\n",
       "      <th>fashion</th>\n",
       "      <th>design</th>\n",
       "      <th>comics</th>\n",
       "    </tr>\n",
       "    <tr>\n",
       "      <th></th>\n",
       "      <th>monetary_impact</th>\n",
       "      <th>monetary_impact</th>\n",
       "      <th>monetary_impact</th>\n",
       "      <th>monetary_impact</th>\n",
       "      <th>monetary_impact</th>\n",
       "      <th>monetary_impact</th>\n",
       "      <th>monetary_impact</th>\n",
       "      <th>monetary_impact</th>\n",
       "      <th>monetary_impact</th>\n",
       "      <th>monetary_impact</th>\n",
       "    </tr>\n",
       "  </thead>\n",
       "  <tbody>\n",
       "    <tr>\n",
       "      <th>count</th>\n",
       "      <td>200.000000</td>\n",
       "      <td>200.000000</td>\n",
       "      <td>200.000000</td>\n",
       "      <td>200.000000</td>\n",
       "      <td>200.000000</td>\n",
       "      <td>200.000000</td>\n",
       "      <td>200.000000</td>\n",
       "      <td>200.000000</td>\n",
       "      <td>200.000000</td>\n",
       "      <td>200.000000</td>\n",
       "    </tr>\n",
       "    <tr>\n",
       "      <th>mean</th>\n",
       "      <td>-135.137189</td>\n",
       "      <td>46.539078</td>\n",
       "      <td>1095.114232</td>\n",
       "      <td>31.600851</td>\n",
       "      <td>21.738953</td>\n",
       "      <td>-11.230794</td>\n",
       "      <td>402.787011</td>\n",
       "      <td>288.892222</td>\n",
       "      <td>329.282520</td>\n",
       "      <td>32.326363</td>\n",
       "    </tr>\n",
       "    <tr>\n",
       "      <th>std</th>\n",
       "      <td>1447.698546</td>\n",
       "      <td>474.173835</td>\n",
       "      <td>6261.184197</td>\n",
       "      <td>531.475439</td>\n",
       "      <td>649.604727</td>\n",
       "      <td>693.387043</td>\n",
       "      <td>5025.448741</td>\n",
       "      <td>2243.770559</td>\n",
       "      <td>3792.994098</td>\n",
       "      <td>582.045836</td>\n",
       "    </tr>\n",
       "    <tr>\n",
       "      <th>min</th>\n",
       "      <td>-4724.147294</td>\n",
       "      <td>-1680.350463</td>\n",
       "      <td>-14009.453486</td>\n",
       "      <td>-1235.824048</td>\n",
       "      <td>-2052.065372</td>\n",
       "      <td>-2161.375908</td>\n",
       "      <td>-10393.115406</td>\n",
       "      <td>-3673.504081</td>\n",
       "      <td>-9104.162985</td>\n",
       "      <td>-1694.379824</td>\n",
       "    </tr>\n",
       "    <tr>\n",
       "      <th>25%</th>\n",
       "      <td>-869.707220</td>\n",
       "      <td>-237.444635</td>\n",
       "      <td>-2775.556110</td>\n",
       "      <td>-278.910642</td>\n",
       "      <td>-337.619529</td>\n",
       "      <td>-460.998096</td>\n",
       "      <td>-2821.519588</td>\n",
       "      <td>-790.867458</td>\n",
       "      <td>-1915.660546</td>\n",
       "      <td>-283.340988</td>\n",
       "    </tr>\n",
       "    <tr>\n",
       "      <th>50%</th>\n",
       "      <td>-414.574428</td>\n",
       "      <td>-8.080126</td>\n",
       "      <td>-536.350845</td>\n",
       "      <td>-112.757087</td>\n",
       "      <td>-99.940679</td>\n",
       "      <td>-103.667299</td>\n",
       "      <td>-631.642121</td>\n",
       "      <td>-204.609214</td>\n",
       "      <td>-555.695371</td>\n",
       "      <td>-88.916491</td>\n",
       "    </tr>\n",
       "    <tr>\n",
       "      <th>75%</th>\n",
       "      <td>224.335021</td>\n",
       "      <td>279.577609</td>\n",
       "      <td>4097.710747</td>\n",
       "      <td>156.452581</td>\n",
       "      <td>338.999719</td>\n",
       "      <td>293.434539</td>\n",
       "      <td>1963.998172</td>\n",
       "      <td>794.879519</td>\n",
       "      <td>1473.377606</td>\n",
       "      <td>186.519631</td>\n",
       "    </tr>\n",
       "    <tr>\n",
       "      <th>max</th>\n",
       "      <td>7135.235238</td>\n",
       "      <td>1822.891730</td>\n",
       "      <td>27435.877892</td>\n",
       "      <td>2367.053033</td>\n",
       "      <td>1873.881172</td>\n",
       "      <td>2554.740469</td>\n",
       "      <td>21557.305512</td>\n",
       "      <td>12314.967011</td>\n",
       "      <td>17811.503941</td>\n",
       "      <td>2816.903754</td>\n",
       "    </tr>\n",
       "  </tbody>\n",
       "</table>\n",
       "</div>"
      ],
      "text/plain": [
       "         film & video           music      technology             art  \\\n",
       "      monetary_impact monetary_impact monetary_impact monetary_impact   \n",
       "count      200.000000      200.000000      200.000000      200.000000   \n",
       "mean      -135.137189       46.539078     1095.114232       31.600851   \n",
       "std       1447.698546      474.173835     6261.184197      531.475439   \n",
       "min      -4724.147294    -1680.350463   -14009.453486    -1235.824048   \n",
       "25%       -869.707220     -237.444635    -2775.556110     -278.910642   \n",
       "50%       -414.574428       -8.080126     -536.350845     -112.757087   \n",
       "75%        224.335021      279.577609     4097.710747      156.452581   \n",
       "max       7135.235238     1822.891730    27435.877892     2367.053033   \n",
       "\n",
       "           publishing            food           games         fashion  \\\n",
       "      monetary_impact monetary_impact monetary_impact monetary_impact   \n",
       "count      200.000000      200.000000      200.000000      200.000000   \n",
       "mean        21.738953      -11.230794      402.787011      288.892222   \n",
       "std        649.604727      693.387043     5025.448741     2243.770559   \n",
       "min      -2052.065372    -2161.375908   -10393.115406    -3673.504081   \n",
       "25%       -337.619529     -460.998096    -2821.519588     -790.867458   \n",
       "50%        -99.940679     -103.667299     -631.642121     -204.609214   \n",
       "75%        338.999719      293.434539     1963.998172      794.879519   \n",
       "max       1873.881172     2554.740469    21557.305512    12314.967011   \n",
       "\n",
       "               design          comics  \n",
       "      monetary_impact monetary_impact  \n",
       "count      200.000000      200.000000  \n",
       "mean       329.282520       32.326363  \n",
       "std       3792.994098      582.045836  \n",
       "min      -9104.162985    -1694.379824  \n",
       "25%      -1915.660546     -283.340988  \n",
       "50%       -555.695371      -88.916491  \n",
       "75%       1473.377606      186.519631  \n",
       "max      17811.503941     2816.903754  "
      ]
     },
     "execution_count": 4,
     "metadata": {},
     "output_type": "execute_result"
    }
   ],
   "source": [
    "grams_df.describe()"
   ]
  },
  {
   "cell_type": "code",
   "execution_count": 5,
   "metadata": {
    "collapsed": true
   },
   "outputs": [],
   "source": [
    "import seaborn as sns\n",
    "\n",
    "grams_df_by_cat = {}\n",
    "\n",
    "for cat in top_10_categories:\n",
    "    grams_df_by_cat[cat] = grams_df[cat]"
   ]
  },
  {
   "cell_type": "code",
   "execution_count": 6,
   "metadata": {},
   "outputs": [
    {
     "data": {
      "text/plain": [
       "<matplotlib.axes._subplots.AxesSubplot at 0x7f33a3582e10>"
      ]
     },
     "execution_count": 6,
     "metadata": {},
     "output_type": "execute_result"
    },
    {
     "data": {
      "image/png": "[encoded data removed]",
      "text/plain": [
       "<Figure size 432x288 with 1 Axes>"
      ]
     },
     "metadata": {
      "needs_background": "light"
     },
     "output_type": "display_data"
    }
   ],
   "source": [
    "sns.barplot(x = 'grams', y = 'monetary_impact', data = grams_df_by_cat['technology'].head())"
   ]
  },
  {
   "cell_type": "code",
   "execution_count": 7,
   "metadata": {},
   "outputs": [
    {
     "data": {
      "image/png": "[encoded data removed]",
      "text/plain": [
       "<Figure size 432x288 with 1 Axes>"
      ]
     },
     "metadata": {
      "needs_background": "light"
     },
     "output_type": "display_data"
    }
   ],
   "source": [
    "sns.distplot(grams_df_by_cat['technology']['monetary_impact'], bins=100);"
   ]
  },
  {
   "cell_type": "code",
   "execution_count": 8,
   "metadata": {},
   "outputs": [
    {
     "data": {
      "text/plain": [
       "<matplotlib.collections.PathCollection at 0x7f33a30baa58>"
      ]
     },
     "execution_count": 8,
     "metadata": {},
     "output_type": "execute_result"
    },
    {
     "data": {
      "image/png": "[encoded data removed]",
      "text/plain": [
       "<Figure size 432x288 with 1 Axes>"
      ]
     },
     "metadata": {
      "needs_background": "light"
     },
     "output_type": "display_data"
    }
   ],
   "source": [
    "plt.scatter(grams_df_by_cat['film & video'].index, grams_df_by_cat['film & video']['monetary_impact'])"
   ]
  },
  {
   "cell_type": "code",
   "execution_count": 9,
   "metadata": {},
   "outputs": [
    {
     "data": {
      "text/plain": [
       "<matplotlib.collections.PathCollection at 0x7f33a072ef98>"
      ]
     },
     "execution_count": 9,
     "metadata": {},
     "output_type": "execute_result"
    },
    {
     "data": {
      "image/png": "[encoded data removed]",
      "text/plain": [
       "<Figure size 432x288 with 1 Axes>"
      ]
     },
     "metadata": {
      "needs_background": "light"
     },
     "output_type": "display_data"
    }
   ],
   "source": [
    "plt.scatter(grams_df_by_cat['music'].index, grams_df_by_cat['music']['monetary_impact'])"
   ]
  },
  {
   "cell_type": "code",
   "execution_count": 10,
   "metadata": {},
   "outputs": [
    {
     "data": {
      "text/plain": [
       "<matplotlib.collections.PathCollection at 0x7f33a074a9e8>"
      ]
     },
     "execution_count": 10,
     "metadata": {},
     "output_type": "execute_result"
    },
    {
     "data": {
      "image/png": "[encoded data removed]",
      "text/plain": [
       "<Figure size 432x288 with 1 Axes>"
      ]
     },
     "metadata": {
      "needs_background": "light"
     },
     "output_type": "display_data"
    }
   ],
   "source": [
    "plt.scatter(grams_df_by_cat['technology'].index, grams_df_by_cat['technology']['monetary_impact'])"
   ]
  },
  {
   "cell_type": "code",
   "execution_count": 11,
   "metadata": {},
   "outputs": [
    {
     "data": {
      "text/plain": [
       "<matplotlib.collections.PathCollection at 0x7f33a0d94080>"
      ]
     },
     "execution_count": 11,
     "metadata": {},
     "output_type": "execute_result"
    },
    {
     "data": {
      "image/png": "[encoded data removed]",
      "text/plain": [
       "<Figure size 432x288 with 1 Axes>"
      ]
     },
     "metadata": {
      "needs_background": "light"
     },
     "output_type": "display_data"
    }
   ],
   "source": [
    "plt.scatter(grams_df_by_cat['art'].index, grams_df_by_cat['art']['monetary_impact'])"
   ]
  },
  {
   "cell_type": "code",
   "execution_count": 12,
   "metadata": {},
   "outputs": [
    {
     "data": {
      "text/plain": [
       "<matplotlib.collections.PathCollection at 0x7f33a3c5e0f0>"
      ]
     },
     "execution_count": 12,
     "metadata": {},
     "output_type": "execute_result"
    },
    {
     "data": {
      "image/png": "[encoded data removed]",
      "text/plain": [
       "<Figure size 432x288 with 1 Axes>"
      ]
     },
     "metadata": {
      "needs_background": "light"
     },
     "output_type": "display_data"
    }
   ],
   "source": [
    "plt.scatter(grams_df_by_cat['publishing'].index, grams_df_by_cat['publishing']['monetary_impact'])"
   ]
  },
  {
   "cell_type": "code",
   "execution_count": 13,
   "metadata": {},
   "outputs": [
    {
     "data": {
      "text/plain": [
       "<matplotlib.collections.PathCollection at 0x7f33a3c4b2e8>"
      ]
     },
     "execution_count": 13,
     "metadata": {},
     "output_type": "execute_result"
    },
    {
     "data": {
      "image/png": "[encoded data removed]",
      "text/plain": [
       "<Figure size 432x288 with 1 Axes>"
      ]
     },
     "metadata": {
      "needs_background": "light"
     },
     "output_type": "display_data"
    }
   ],
   "source": [
    "plt.scatter(grams_df_by_cat['food'].index, grams_df_by_cat['food']['monetary_impact'])"
   ]
  },
  {
   "cell_type": "code",
   "execution_count": 14,
   "metadata": {},
   "outputs": [
    {
     "data": {
      "text/plain": [
       "<matplotlib.collections.PathCollection at 0x7f33a3bb8160>"
      ]
     },
     "execution_count": 14,
     "metadata": {},
     "output_type": "execute_result"
    },
    {
     "data": {
      "image/png": "[encoded data removed]",
      "text/plain": [
       "<Figure size 432x288 with 1 Axes>"
      ]
     },
     "metadata": {
      "needs_background": "light"
     },
     "output_type": "display_data"
    }
   ],
   "source": [
    "plt.scatter(grams_df_by_cat['games'].index, grams_df_by_cat['games']['monetary_impact'])"
   ]
  },
  {
   "cell_type": "code",
   "execution_count": 15,
   "metadata": {},
   "outputs": [
    {
     "data": {
      "text/plain": [
       "<matplotlib.collections.PathCollection at 0x7f33a387da58>"
      ]
     },
     "execution_count": 15,
     "metadata": {},
     "output_type": "execute_result"
    },
    {
     "data": {
      "image/png": "[encoded data removed]",
      "text/plain": [
       "<Figure size 432x288 with 1 Axes>"
      ]
     },
     "metadata": {
      "needs_background": "light"
     },
     "output_type": "display_data"
    }
   ],
   "source": [
    "plt.scatter(grams_df_by_cat['fashion'].index, grams_df_by_cat['fashion']['monetary_impact'])"
   ]
  },
  {
   "cell_type": "code",
   "execution_count": 16,
   "metadata": {},
   "outputs": [
    {
     "data": {
      "text/plain": [
       "<matplotlib.collections.PathCollection at 0x7f33a386be80>"
      ]
     },
     "execution_count": 16,
     "metadata": {},
     "output_type": "execute_result"
    },
    {
     "data": {
      "image/png": "[encoded data removed]",
      "text/plain": [
       "<Figure size 432x288 with 1 Axes>"
      ]
     },
     "metadata": {
      "needs_background": "light"
     },
     "output_type": "display_data"
    }
   ],
   "source": [
    "plt.scatter(grams_df_by_cat['design'].index, grams_df_by_cat['design']['monetary_impact'])"
   ]
  },
  {
   "cell_type": "code",
   "execution_count": 17,
   "metadata": {},
   "outputs": [
    {
     "data": {
      "text/plain": [
       "<matplotlib.collections.PathCollection at 0x7f33a37e0400>"
      ]
     },
     "execution_count": 17,
     "metadata": {},
     "output_type": "execute_result"
    },
    {
     "data": {
      "image/png": "[encoded data removed]",
      "text/plain": [
       "<Figure size 432x288 with 1 Axes>"
      ]
     },
     "metadata": {
      "needs_background": "light"
     },
     "output_type": "display_data"
    }
   ],
   "source": [
    "plt.scatter(grams_df_by_cat['comics'].index, grams_df_by_cat['comics']['monetary_impact'])"
   ]
  },
  {
   "cell_type": "code",
   "execution_count": 18,
   "metadata": {},
   "outputs": [
    {
     "data": {
      "text/plain": [
       "<matplotlib.axes._subplots.AxesSubplot at 0x7f33a3810518>"
      ]
     },
     "execution_count": 18,
     "metadata": {},
     "output_type": "execute_result"
    },
    {
     "data": {
      "image/png": "[encoded data removed]",
      "text/plain": [
       "<Figure size 432x288 with 1 Axes>"
      ]
     },
     "metadata": {
      "needs_background": "light"
     },
     "output_type": "display_data"
    }
   ],
   "source": [
    "sns.boxplot(x = 'monetary_impact', data = grams_df_by_cat['technology'])"
   ]
  },
  {
   "cell_type": "code",
   "execution_count": 20,
   "metadata": {},
   "outputs": [
    {
     "name": "stdout",
     "output_type": "stream",
     "text": [
      "           grams  monetary_impact\n",
      "0          smart     27435.877892\n",
      "1          first     23702.362206\n",
      "2    world first     18467.685460\n",
      "3         camera     18423.449401\n",
      "4     affordable     18288.850428\n",
      "5          world     15365.547001\n",
      "6     3d printer     15120.977669\n",
      "7        printer     15025.821892\n",
      "8             3d     14962.270042\n",
      "9          power     14859.320968\n",
      "10    experience     14672.716928\n",
      "11       display     13033.193137\n",
      "12       android     12283.083226\n",
      "13         sound     11860.069049\n",
      "14    smartphone     11750.624236\n",
      "15         music     11247.228322\n",
      "16      wireless     11184.905929\n",
      "17       perfect     11000.529463\n",
      "18       feature     10941.293555\n",
      "19      portable     10207.845156\n",
      "20        design      9774.243092\n",
      "21             ™      9322.105650\n",
      "22          hand      9204.405598\n",
      "23          turn      9086.444341\n",
      "24      powerful      8859.157640\n",
      "25      computer      7731.863629\n",
      "26    compatible      7714.170602\n",
      "27         small      7712.229424\n",
      "28       machine      7579.757659\n",
      "29     bluetooth      7417.618842\n",
      "..           ...              ...\n",
      "170         look     -4001.905040\n",
      "171          get     -4009.160825\n",
      "172      arduino     -4023.460683\n",
      "173      speaker     -4098.561019\n",
      "174          use     -4223.972984\n",
      "175          web     -4289.008895\n",
      "176         find     -4462.936672\n",
      "177         safe     -4765.272779\n",
      "178      develop     -4940.628281\n",
      "179      network     -5151.564886\n",
      "180       school     -5398.407147\n",
      "181     business     -5562.023762\n",
      "182      product     -5778.805067\n",
      "183     platform     -6010.626420\n",
      "184       system     -6120.623235\n",
      "185      service     -6319.779440\n",
      "186     software     -6401.007747\n",
      "187  application     -6480.151284\n",
      "188      student     -6517.317746\n",
      "189       social     -6551.587288\n",
      "190       create     -6914.935520\n",
      "191         help     -7012.436919\n",
      "192      website     -7083.868039\n",
      "193      project     -7201.167791\n",
      "194       people     -7397.483526\n",
      "195           de     -7553.720653\n",
      "196         want     -7909.810203\n",
      "197       online     -7994.192767\n",
      "198          app    -12636.994312\n",
      "199       cancel    -14009.453486\n",
      "\n",
      "[200 rows x 2 columns]\n"
     ]
    }
   ],
   "source": [
    "print((grams_df_by_cat['technology']))"
   ]
  },
  {
   "cell_type": "code",
   "execution_count": null,
   "metadata": {
    "collapsed": true
   },
   "outputs": [],
   "source": []
  }
 ],
 "metadata": {
  "kernelspec": {
   "display_name": "Python 3",
   "language": "python",
   "name": "python3"
  },
  "language_info": {
   "codemirror_mode": {
    "name": "ipython",
    "version": 3
   },
   "file_extension": ".py",
   "mimetype": "text/x-python",
   "name": "python",
   "nbconvert_exporter": "python",
   "pygments_lexer": "ipython3",
   "version": "3.5.2"
  }
 },
 "nbformat": 4,
 "nbformat_minor": 2
}
