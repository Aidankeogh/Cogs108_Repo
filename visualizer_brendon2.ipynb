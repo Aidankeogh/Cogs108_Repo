{
 "cells": [
  {
   "cell_type": "code",
   "execution_count": 1,
   "metadata": {},
   "outputs": [
    {
     "name": "stdout",
     "output_type": "stream",
     "text": [
      "3685.354651356751\n",
      "book\n",
      "XBGuard - A soft neoprene cover for the Xbox One Kinect Introducing the XBGuard; a soft Neoprene privacy cover for the Kinect camera.\n",
      "91.0 $ /  20000.0 $\n",
      "\n",
      "BCNU phone/tablet video game BCNU is an action game played on a phone or tablet, where the background is always different because it is live via the device camera.\n",
      "0.0 $ /  56000.0 $\n",
      "\n",
      "Snapcardster | the all-in-one app for magic players Use your smartphone camera to scan cards and categorize your collection with lightning speed.\n",
      "6963.9747860935 $ /  6770.595300000001 $\n",
      "\n",
      "Lights, Camera, Pitch: a party game for storytellers You are a film/TV producer, with 60 seconds to pitch a project based on the actors, sets and title cards in your hand!\n",
      "4366.553881488399 $ /  1130.6237919999999 $\n",
      "\n",
      "Snapenger Hunt, an interactive camera based scavenger hunt. Just dreaming of dashing a classic game with a hint of the modern technology that can be enjoyed by all ages, and skill sets.\n",
      "16.0 $ /  20000.0 $\n",
      "\n",
      "Lights, Camera, Action! Movie Stars wanted!  Direct, Edit, and Act in your own Blockbuster and Share it with us.  Family Fun will never be the same!\n",
      " .\n",
      "0.0 $ /  150000.0 $\n",
      "\n",
      "My Sky Creator, an interactive visual game for everyone! My Sky Creator is an interactive, computer-based game using an internet connection, an open sky, a camera and your imagination.\n",
      "245.0 $ /  25000.0 $\n",
      "\n",
      "Eye Spy That A social app game for phones which pits you against your friends in trying to guess what they have spied from their camera photos.\n",
      "153.77884984 $ /  15908.15688 $\n",
      "\n",
      "Snapenger Hunt, an interactive camera based scavenger hunt. Just dreaming of dashing a classic game with a hint of the modern technology that can be enjoyed by all ages, and skill sets.\n",
      "16.0 $ /  20000.0 $\n",
      "\n",
      "To become like PewDiePie on Youtube I want to start a youtube channel and i need a good computer, camera and microphone. So if you even donate $1, that can be helpful\n",
      "75.12245 $ /  525.8571499999999 $\n",
      "\n",
      "Lights, Camera, Pitch: a party game for storytellers You are a film/TV producer, with 60 seconds to pitch a project based on the actors, sets and title cards in your hand!\n",
      "4366.553881488399 $ /  1130.6237919999999 $\n",
      "\n",
      "Crossfire MMORPG is a real world field of play game. Use maps, GPS, drones, camera to locate and \"shoot\" other players. Each game instance has user defined parameters.\n",
      "0.0 $ /  150000.0 $\n",
      "\n",
      "3D Shopping with WalkTheWeb 3D Technology! Online 3D Stores for businesses that blur 3D Games with Virtual Real-World Experiences. We just added New Menus and 3D Camera Views!\n",
      "91.0 $ /  50000.0 $\n",
      "\n"
     ]
    }
   ],
   "source": [
    "from main import *"
   ]
  },
  {
   "cell_type": "code",
   "execution_count": 2,
   "metadata": {},
   "outputs": [
    {
     "data": {
      "text/plain": [
       "(200, 20)"
      ]
     },
     "execution_count": 2,
     "metadata": {},
     "output_type": "execute_result"
    }
   ],
   "source": [
    "grams_df.shape"
   ]
  },
  {
   "cell_type": "code",
   "execution_count": 3,
   "metadata": {},
   "outputs": [
    {
     "data": {
      "text/html": [
       "<div>\n",
       "<style scoped>\n",
       "    .dataframe tbody tr th:only-of-type {\n",
       "        vertical-align: middle;\n",
       "    }\n",
       "\n",
       "    .dataframe tbody tr th {\n",
       "        vertical-align: top;\n",
       "    }\n",
       "\n",
       "    .dataframe thead tr th {\n",
       "        text-align: left;\n",
       "    }\n",
       "</style>\n",
       "<table border=\"1\" class=\"dataframe\">\n",
       "  <thead>\n",
       "    <tr>\n",
       "      <th></th>\n",
       "      <th colspan=\"2\" halign=\"left\">film &amp; video</th>\n",
       "      <th colspan=\"2\" halign=\"left\">music</th>\n",
       "      <th colspan=\"2\" halign=\"left\">technology</th>\n",
       "      <th colspan=\"2\" halign=\"left\">art</th>\n",
       "      <th colspan=\"2\" halign=\"left\">publishing</th>\n",
       "      <th colspan=\"2\" halign=\"left\">food</th>\n",
       "      <th colspan=\"2\" halign=\"left\">games</th>\n",
       "      <th colspan=\"2\" halign=\"left\">fashion</th>\n",
       "      <th colspan=\"2\" halign=\"left\">design</th>\n",
       "      <th colspan=\"2\" halign=\"left\">comics</th>\n",
       "    </tr>\n",
       "    <tr>\n",
       "      <th></th>\n",
       "      <th>grams</th>\n",
       "      <th>monetary_impact</th>\n",
       "      <th>grams</th>\n",
       "      <th>monetary_impact</th>\n",
       "      <th>grams</th>\n",
       "      <th>monetary_impact</th>\n",
       "      <th>grams</th>\n",
       "      <th>monetary_impact</th>\n",
       "      <th>grams</th>\n",
       "      <th>monetary_impact</th>\n",
       "      <th>grams</th>\n",
       "      <th>monetary_impact</th>\n",
       "      <th>grams</th>\n",
       "      <th>monetary_impact</th>\n",
       "      <th>grams</th>\n",
       "      <th>monetary_impact</th>\n",
       "      <th>grams</th>\n",
       "      <th>monetary_impact</th>\n",
       "      <th>grams</th>\n",
       "      <th>monetary_impact</th>\n",
       "    </tr>\n",
       "  </thead>\n",
       "  <tbody>\n",
       "    <tr>\n",
       "      <th>0</th>\n",
       "      <td>animate</td>\n",
       "      <td>6991.155845</td>\n",
       "      <td>new</td>\n",
       "      <td>1867.822414</td>\n",
       "      <td>smart</td>\n",
       "      <td>28010.478180</td>\n",
       "      <td>book</td>\n",
       "      <td>2228.585712</td>\n",
       "      <td>art</td>\n",
       "      <td>1912.370131</td>\n",
       "      <td>beer</td>\n",
       "      <td>2814.722993</td>\n",
       "      <td>board game</td>\n",
       "      <td>21099.321100</td>\n",
       "      <td>jacket</td>\n",
       "      <td>11205.350303</td>\n",
       "      <td>versatile</td>\n",
       "      <td>18068.317235</td>\n",
       "      <td>hardcover</td>\n",
       "      <td>3050.739701</td>\n",
       "    </tr>\n",
       "    <tr>\n",
       "      <th>1</th>\n",
       "      <td>documentary</td>\n",
       "      <td>5902.428498</td>\n",
       "      <td>new album</td>\n",
       "      <td>1685.267282</td>\n",
       "      <td>first</td>\n",
       "      <td>21795.829882</td>\n",
       "      <td>museum</td>\n",
       "      <td>1958.616228</td>\n",
       "      <td>book</td>\n",
       "      <td>1898.956755</td>\n",
       "      <td>chef</td>\n",
       "      <td>2470.788002</td>\n",
       "      <td>board</td>\n",
       "      <td>20098.627969</td>\n",
       "      <td>travel</td>\n",
       "      <td>9206.217496</td>\n",
       "      <td>travel</td>\n",
       "      <td>15221.174301</td>\n",
       "      <td>volume</td>\n",
       "      <td>2227.816802</td>\n",
       "    </tr>\n",
       "    <tr>\n",
       "      <th>2</th>\n",
       "      <td>bring</td>\n",
       "      <td>5118.811905</td>\n",
       "      <td>join</td>\n",
       "      <td>1420.753710</td>\n",
       "      <td>affordable</td>\n",
       "      <td>18852.769876</td>\n",
       "      <td>public art</td>\n",
       "      <td>1449.247378</td>\n",
       "      <td>art book</td>\n",
       "      <td>1810.241504</td>\n",
       "      <td>brewing</td>\n",
       "      <td>2420.076853</td>\n",
       "      <td>1</td>\n",
       "      <td>18734.340100</td>\n",
       "      <td>pocket</td>\n",
       "      <td>8921.395455</td>\n",
       "      <td>pack</td>\n",
       "      <td>14898.364837</td>\n",
       "      <td>print</td>\n",
       "      <td>2002.369557</td>\n",
       "    </tr>\n",
       "    <tr>\n",
       "      <th>3</th>\n",
       "      <td>big</td>\n",
       "      <td>5018.121341</td>\n",
       "      <td>album</td>\n",
       "      <td>1365.137899</td>\n",
       "      <td>camera</td>\n",
       "      <td>18680.077264</td>\n",
       "      <td>public</td>\n",
       "      <td>1422.078468</td>\n",
       "      <td>artist</td>\n",
       "      <td>1652.178202</td>\n",
       "      <td>craft</td>\n",
       "      <td>1976.236337</td>\n",
       "      <td>set</td>\n",
       "      <td>18682.931213</td>\n",
       "      <td>&lt;SOS&gt; world</td>\n",
       "      <td>8828.671780</td>\n",
       "      <td>system</td>\n",
       "      <td>13226.626438</td>\n",
       "      <td>collection</td>\n",
       "      <td>1912.511849</td>\n",
       "    </tr>\n",
       "    <tr>\n",
       "      <th>4</th>\n",
       "      <td>back</td>\n",
       "      <td>3907.245249</td>\n",
       "      <td>make</td>\n",
       "      <td>1260.073496</td>\n",
       "      <td>world first</td>\n",
       "      <td>17251.629187</td>\n",
       "      <td>bring</td>\n",
       "      <td>1307.804298</td>\n",
       "      <td>world</td>\n",
       "      <td>1436.645954</td>\n",
       "      <td>first</td>\n",
       "      <td>1971.822295</td>\n",
       "      <td>4 player</td>\n",
       "      <td>14783.100286</td>\n",
       "      <td>world</td>\n",
       "      <td>8499.296842</td>\n",
       "      <td>backpack</td>\n",
       "      <td>12542.817914</td>\n",
       "      <td>year</td>\n",
       "      <td>1872.953551</td>\n",
       "    </tr>\n",
       "  </tbody>\n",
       "</table>\n",
       "</div>"
      ],
      "text/plain": [
       "  film & video                      music                   technology  \\\n",
       "         grams monetary_impact      grams monetary_impact        grams   \n",
       "0      animate     6991.155845        new     1867.822414        smart   \n",
       "1  documentary     5902.428498  new album     1685.267282        first   \n",
       "2        bring     5118.811905       join     1420.753710   affordable   \n",
       "3          big     5018.121341      album     1365.137899       camera   \n",
       "4         back     3907.245249       make     1260.073496  world first   \n",
       "\n",
       "                          art                 publishing                  \\\n",
       "  monetary_impact       grams monetary_impact      grams monetary_impact   \n",
       "0    28010.478180        book     2228.585712        art     1912.370131   \n",
       "1    21795.829882      museum     1958.616228       book     1898.956755   \n",
       "2    18852.769876  public art     1449.247378   art book     1810.241504   \n",
       "3    18680.077264      public     1422.078468     artist     1652.178202   \n",
       "4    17251.629187       bring     1307.804298      world     1436.645954   \n",
       "\n",
       "      food                       games                      fashion  \\\n",
       "     grams monetary_impact       grams monetary_impact        grams   \n",
       "0     beer     2814.722993  board game    21099.321100       jacket   \n",
       "1     chef     2470.788002       board    20098.627969       travel   \n",
       "2  brewing     2420.076853           1    18734.340100       pocket   \n",
       "3    craft     1976.236337         set    18682.931213  <SOS> world   \n",
       "4    first     1971.822295    4 player    14783.100286        world   \n",
       "\n",
       "                      design                      comics                  \n",
       "  monetary_impact      grams monetary_impact       grams monetary_impact  \n",
       "0    11205.350303  versatile    18068.317235   hardcover     3050.739701  \n",
       "1     9206.217496     travel    15221.174301      volume     2227.816802  \n",
       "2     8921.395455       pack    14898.364837       print     2002.369557  \n",
       "3     8828.671780     system    13226.626438  collection     1912.511849  \n",
       "4     8499.296842   backpack    12542.817914        year     1872.953551  "
      ]
     },
     "execution_count": 3,
     "metadata": {},
     "output_type": "execute_result"
    }
   ],
   "source": [
    "grams_df.head()"
   ]
  },
  {
   "cell_type": "code",
   "execution_count": 4,
   "metadata": {},
   "outputs": [
    {
     "data": {
      "text/html": [
       "<div>\n",
       "<style scoped>\n",
       "    .dataframe tbody tr th:only-of-type {\n",
       "        vertical-align: middle;\n",
       "    }\n",
       "\n",
       "    .dataframe tbody tr th {\n",
       "        vertical-align: top;\n",
       "    }\n",
       "\n",
       "    .dataframe thead tr th {\n",
       "        text-align: left;\n",
       "    }\n",
       "</style>\n",
       "<table border=\"1\" class=\"dataframe\">\n",
       "  <thead>\n",
       "    <tr>\n",
       "      <th></th>\n",
       "      <th>film &amp; video</th>\n",
       "      <th>music</th>\n",
       "      <th>technology</th>\n",
       "      <th>art</th>\n",
       "      <th>publishing</th>\n",
       "      <th>food</th>\n",
       "      <th>games</th>\n",
       "      <th>fashion</th>\n",
       "      <th>design</th>\n",
       "      <th>comics</th>\n",
       "    </tr>\n",
       "    <tr>\n",
       "      <th></th>\n",
       "      <th>monetary_impact</th>\n",
       "      <th>monetary_impact</th>\n",
       "      <th>monetary_impact</th>\n",
       "      <th>monetary_impact</th>\n",
       "      <th>monetary_impact</th>\n",
       "      <th>monetary_impact</th>\n",
       "      <th>monetary_impact</th>\n",
       "      <th>monetary_impact</th>\n",
       "      <th>monetary_impact</th>\n",
       "      <th>monetary_impact</th>\n",
       "    </tr>\n",
       "  </thead>\n",
       "  <tbody>\n",
       "    <tr>\n",
       "      <th>count</th>\n",
       "      <td>200.000000</td>\n",
       "      <td>200.000000</td>\n",
       "      <td>200.000000</td>\n",
       "      <td>200.000000</td>\n",
       "      <td>200.000000</td>\n",
       "      <td>200.000000</td>\n",
       "      <td>200.000000</td>\n",
       "      <td>200.000000</td>\n",
       "      <td>200.000000</td>\n",
       "      <td>200.000000</td>\n",
       "    </tr>\n",
       "    <tr>\n",
       "      <th>mean</th>\n",
       "      <td>-147.274247</td>\n",
       "      <td>60.523294</td>\n",
       "      <td>1036.786076</td>\n",
       "      <td>33.658883</td>\n",
       "      <td>8.739631</td>\n",
       "      <td>-32.889362</td>\n",
       "      <td>474.028979</td>\n",
       "      <td>250.603304</td>\n",
       "      <td>342.759832</td>\n",
       "      <td>38.444022</td>\n",
       "    </tr>\n",
       "    <tr>\n",
       "      <th>std</th>\n",
       "      <td>1454.917210</td>\n",
       "      <td>477.356079</td>\n",
       "      <td>6117.883783</td>\n",
       "      <td>509.025572</td>\n",
       "      <td>595.471987</td>\n",
       "      <td>721.389311</td>\n",
       "      <td>4919.825282</td>\n",
       "      <td>2052.002470</td>\n",
       "      <td>3810.769259</td>\n",
       "      <td>588.629728</td>\n",
       "    </tr>\n",
       "    <tr>\n",
       "      <th>min</th>\n",
       "      <td>-4685.421816</td>\n",
       "      <td>-1693.699894</td>\n",
       "      <td>-13984.167024</td>\n",
       "      <td>-1251.174138</td>\n",
       "      <td>-1985.991736</td>\n",
       "      <td>-2263.972288</td>\n",
       "      <td>-9806.447056</td>\n",
       "      <td>-3672.674706</td>\n",
       "      <td>-8643.900833</td>\n",
       "      <td>-1619.474392</td>\n",
       "    </tr>\n",
       "    <tr>\n",
       "      <th>25%</th>\n",
       "      <td>-885.399086</td>\n",
       "      <td>-225.670030</td>\n",
       "      <td>-2630.767576</td>\n",
       "      <td>-250.857623</td>\n",
       "      <td>-330.562344</td>\n",
       "      <td>-472.766701</td>\n",
       "      <td>-2342.719906</td>\n",
       "      <td>-752.359587</td>\n",
       "      <td>-1875.816473</td>\n",
       "      <td>-282.166892</td>\n",
       "    </tr>\n",
       "    <tr>\n",
       "      <th>50%</th>\n",
       "      <td>-404.247894</td>\n",
       "      <td>13.126722</td>\n",
       "      <td>-361.498424</td>\n",
       "      <td>-96.809354</td>\n",
       "      <td>-78.645721</td>\n",
       "      <td>-111.177277</td>\n",
       "      <td>-643.211750</td>\n",
       "      <td>-198.575273</td>\n",
       "      <td>-428.132045</td>\n",
       "      <td>-77.231831</td>\n",
       "    </tr>\n",
       "    <tr>\n",
       "      <th>75%</th>\n",
       "      <td>193.320608</td>\n",
       "      <td>302.872882</td>\n",
       "      <td>4006.770469</td>\n",
       "      <td>132.043118</td>\n",
       "      <td>247.189543</td>\n",
       "      <td>261.478369</td>\n",
       "      <td>1880.162822</td>\n",
       "      <td>756.463805</td>\n",
       "      <td>1362.047364</td>\n",
       "      <td>196.953528</td>\n",
       "    </tr>\n",
       "    <tr>\n",
       "      <th>max</th>\n",
       "      <td>6991.155845</td>\n",
       "      <td>1867.822414</td>\n",
       "      <td>28010.478180</td>\n",
       "      <td>2228.585712</td>\n",
       "      <td>1912.370131</td>\n",
       "      <td>2814.722993</td>\n",
       "      <td>21099.321100</td>\n",
       "      <td>11205.350303</td>\n",
       "      <td>18068.317235</td>\n",
       "      <td>3050.739701</td>\n",
       "    </tr>\n",
       "  </tbody>\n",
       "</table>\n",
       "</div>"
      ],
      "text/plain": [
       "         film & video           music      technology             art  \\\n",
       "      monetary_impact monetary_impact monetary_impact monetary_impact   \n",
       "count      200.000000      200.000000      200.000000      200.000000   \n",
       "mean      -147.274247       60.523294     1036.786076       33.658883   \n",
       "std       1454.917210      477.356079     6117.883783      509.025572   \n",
       "min      -4685.421816    -1693.699894   -13984.167024    -1251.174138   \n",
       "25%       -885.399086     -225.670030    -2630.767576     -250.857623   \n",
       "50%       -404.247894       13.126722     -361.498424      -96.809354   \n",
       "75%        193.320608      302.872882     4006.770469      132.043118   \n",
       "max       6991.155845     1867.822414    28010.478180     2228.585712   \n",
       "\n",
       "           publishing            food           games         fashion  \\\n",
       "      monetary_impact monetary_impact monetary_impact monetary_impact   \n",
       "count      200.000000      200.000000      200.000000      200.000000   \n",
       "mean         8.739631      -32.889362      474.028979      250.603304   \n",
       "std        595.471987      721.389311     4919.825282     2052.002470   \n",
       "min      -1985.991736    -2263.972288    -9806.447056    -3672.674706   \n",
       "25%       -330.562344     -472.766701    -2342.719906     -752.359587   \n",
       "50%        -78.645721     -111.177277     -643.211750     -198.575273   \n",
       "75%        247.189543      261.478369     1880.162822      756.463805   \n",
       "max       1912.370131     2814.722993    21099.321100    11205.350303   \n",
       "\n",
       "               design          comics  \n",
       "      monetary_impact monetary_impact  \n",
       "count      200.000000      200.000000  \n",
       "mean       342.759832       38.444022  \n",
       "std       3810.769259      588.629728  \n",
       "min      -8643.900833    -1619.474392  \n",
       "25%      -1875.816473     -282.166892  \n",
       "50%       -428.132045      -77.231831  \n",
       "75%       1362.047364      196.953528  \n",
       "max      18068.317235     3050.739701  "
      ]
     },
     "execution_count": 4,
     "metadata": {},
     "output_type": "execute_result"
    }
   ],
   "source": [
    "grams_df.describe()"
   ]
  },
  {
   "cell_type": "code",
   "execution_count": 5,
   "metadata": {},
   "outputs": [],
   "source": [
    "import seaborn as sns\n",
    "\n",
    "grams_df_by_cat = {}\n",
    "\n",
    "for cat in top_10_categories:\n",
    "    grams_df_by_cat[cat] = grams_df[cat]"
   ]
  },
  {
   "cell_type": "code",
   "execution_count": 6,
   "metadata": {},
   "outputs": [
    {
     "data": {
      "text/plain": [
       "<matplotlib.axes._subplots.AxesSubplot at 0x1a38b04dd8>"
      ]
     },
     "execution_count": 6,
     "metadata": {},
     "output_type": "execute_result"
    },
    {
     "data": {
      "image/png": "[encoded data removed]",
      "text/plain": [
       "<Figure size 432x288 with 1 Axes>"
      ]
     },
     "metadata": {
      "needs_background": "light"
     },
     "output_type": "display_data"
    }
   ],
   "source": [
    "sns.barplot(x = 'grams', y = 'monetary_impact', data = grams_df_by_cat['technology'].head())"
   ]
  },
  {
   "cell_type": "code",
   "execution_count": 7,
   "metadata": {},
   "outputs": [
    {
     "data": {
      "image/png": "[encoded data removed]",
      "text/plain": [
       "<Figure size 432x288 with 1 Axes>"
      ]
     },
     "metadata": {
      "needs_background": "light"
     },
     "output_type": "display_data"
    }
   ],
   "source": [
    "sns.distplot(grams_df_by_cat['technology']['monetary_impact'], bins=100);"
   ]
  },
  {
   "cell_type": "code",
   "execution_count": 8,
   "metadata": {},
   "outputs": [
    {
     "data": {
      "text/plain": [
       "<matplotlib.collections.PathCollection at 0x1a3c0a58d0>"
      ]
     },
     "execution_count": 8,
     "metadata": {},
     "output_type": "execute_result"
    },
    {
     "data": {
      "image/png": "[encoded data removed]",
      "text/plain": [
       "<Figure size 432x288 with 1 Axes>"
      ]
     },
     "metadata": {
      "needs_background": "light"
     },
     "output_type": "display_data"
    }
   ],
   "source": [
    "plt.scatter(grams_df_by_cat['film & video'].index, grams_df_by_cat['film & video']['monetary_impact'])"
   ]
  },
  {
   "cell_type": "code",
   "execution_count": 9,
   "metadata": {},
   "outputs": [
    {
     "data": {
      "text/plain": [
       "<matplotlib.collections.PathCollection at 0x1a3c0a5fd0>"
      ]
     },
     "execution_count": 9,
     "metadata": {},
     "output_type": "execute_result"
    },
    {
     "data": {
      "image/png": "[encoded data removed]",
      "text/plain": [
       "<Figure size 432x288 with 1 Axes>"
      ]
     },
     "metadata": {
      "needs_background": "light"
     },
     "output_type": "display_data"
    }
   ],
   "source": [
    "plt.scatter(grams_df_by_cat['music'].index, grams_df_by_cat['music']['monetary_impact'])"
   ]
  },
  {
   "cell_type": "code",
   "execution_count": 10,
   "metadata": {},
   "outputs": [
    {
     "data": {
      "text/plain": [
       "<matplotlib.collections.PathCollection at 0x1a38b98860>"
      ]
     },
     "execution_count": 10,
     "metadata": {},
     "output_type": "execute_result"
    },
    {
     "data": {
      "image/png": "[encoded data removed]",
      "text/plain": [
       "<Figure size 432x288 with 1 Axes>"
      ]
     },
     "metadata": {
      "needs_background": "light"
     },
     "output_type": "display_data"
    }
   ],
   "source": [
    "plt.scatter(grams_df_by_cat['technology'].index, grams_df_by_cat['technology']['monetary_impact'])"
   ]
  },
  {
   "cell_type": "code",
   "execution_count": 11,
   "metadata": {},
   "outputs": [
    {
     "data": {
      "text/plain": [
       "<matplotlib.collections.PathCollection at 0x1a3f06e208>"
      ]
     },
     "execution_count": 11,
     "metadata": {},
     "output_type": "execute_result"
    },
    {
     "data": {
      "image/png": "[encoded data removed]",
      "text/plain": [
       "<Figure size 432x288 with 1 Axes>"
      ]
     },
     "metadata": {
      "needs_background": "light"
     },
     "output_type": "display_data"
    }
   ],
   "source": [
    "plt.scatter(grams_df_by_cat['art'].index, grams_df_by_cat['art']['monetary_impact'])"
   ]
  },
  {
   "cell_type": "code",
   "execution_count": 12,
   "metadata": {},
   "outputs": [
    {
     "data": {
      "text/plain": [
       "<matplotlib.collections.PathCollection at 0x1a3d68d438>"
      ]
     },
     "execution_count": 12,
     "metadata": {},
     "output_type": "execute_result"
    },
    {
     "data": {
      "image/png": "[encoded data removed]",
      "text/plain": [
       "<Figure size 432x288 with 1 Axes>"
      ]
     },
     "metadata": {
      "needs_background": "light"
     },
     "output_type": "display_data"
    }
   ],
   "source": [
    "plt.scatter(grams_df_by_cat['publishing'].index, grams_df_by_cat['publishing']['monetary_impact'])"
   ]
  },
  {
   "cell_type": "code",
   "execution_count": 13,
   "metadata": {},
   "outputs": [
    {
     "data": {
      "text/plain": [
       "<matplotlib.collections.PathCollection at 0x1a3fc0a048>"
      ]
     },
     "execution_count": 13,
     "metadata": {},
     "output_type": "execute_result"
    },
    {
     "data": {
      "image/png": "[encoded data removed]",
      "text/plain": [
       "<Figure size 432x288 with 1 Axes>"
      ]
     },
     "metadata": {
      "needs_background": "light"
     },
     "output_type": "display_data"
    }
   ],
   "source": [
    "plt.scatter(grams_df_by_cat['food'].index, grams_df_by_cat['food']['monetary_impact'])"
   ]
  },
  {
   "cell_type": "code",
   "execution_count": 14,
   "metadata": {},
   "outputs": [
    {
     "data": {
      "text/plain": [
       "<matplotlib.collections.PathCollection at 0x1a3c1ece80>"
      ]
     },
     "execution_count": 14,
     "metadata": {},
     "output_type": "execute_result"
    },
    {
     "data": {
      "image/png": "[encoded data removed]",
      "text/plain": [
       "<Figure size 432x288 with 1 Axes>"
      ]
     },
     "metadata": {
      "needs_background": "light"
     },
     "output_type": "display_data"
    }
   ],
   "source": [
    "plt.scatter(grams_df_by_cat['games'].index, grams_df_by_cat['games']['monetary_impact'])"
   ]
  },
  {
   "cell_type": "code",
   "execution_count": 15,
   "metadata": {},
   "outputs": [
    {
     "data": {
      "text/plain": [
       "<matplotlib.collections.PathCollection at 0x1a3c11c160>"
      ]
     },
     "execution_count": 15,
     "metadata": {},
     "output_type": "execute_result"
    },
    {
     "data": {
      "image/png": "[encoded data removed]",
      "text/plain": [
       "<Figure size 432x288 with 1 Axes>"
      ]
     },
     "metadata": {
      "needs_background": "light"
     },
     "output_type": "display_data"
    }
   ],
   "source": [
    "plt.scatter(grams_df_by_cat['fashion'].index, grams_df_by_cat['fashion']['monetary_impact'])"
   ]
  },
  {
   "cell_type": "code",
   "execution_count": 16,
   "metadata": {},
   "outputs": [
    {
     "data": {
      "text/plain": [
       "<matplotlib.collections.PathCollection at 0x1a3c4a28d0>"
      ]
     },
     "execution_count": 16,
     "metadata": {},
     "output_type": "execute_result"
    },
    {
     "data": {
      "image/png": "[encoded data removed]",
      "text/plain": [
       "<Figure size 432x288 with 1 Axes>"
      ]
     },
     "metadata": {
      "needs_background": "light"
     },
     "output_type": "display_data"
    }
   ],
   "source": [
    "plt.scatter(grams_df_by_cat['design'].index, grams_df_by_cat['design']['monetary_impact'])"
   ]
  },
  {
   "cell_type": "code",
   "execution_count": 17,
   "metadata": {},
   "outputs": [
    {
     "data": {
      "text/plain": [
       "<matplotlib.collections.PathCollection at 0x1a3c96f2b0>"
      ]
     },
     "execution_count": 17,
     "metadata": {},
     "output_type": "execute_result"
    },
    {
     "data": {
      "image/png": "[encoded data removed]",
      "text/plain": [
       "<Figure size 432x288 with 1 Axes>"
      ]
     },
     "metadata": {
      "needs_background": "light"
     },
     "output_type": "display_data"
    }
   ],
   "source": [
    "plt.scatter(grams_df_by_cat['comics'].index, grams_df_by_cat['comics']['monetary_impact'])"
   ]
  },
  {
   "cell_type": "code",
   "execution_count": 18,
   "metadata": {},
   "outputs": [
    {
     "data": {
      "text/plain": [
       "<matplotlib.axes._subplots.AxesSubplot at 0x1a3c6bfef0>"
      ]
     },
     "execution_count": 18,
     "metadata": {},
     "output_type": "execute_result"
    },
    {
     "data": {
      "image/png": "[encoded data removed]",
      "text/plain": [
       "<Figure size 432x288 with 1 Axes>"
      ]
     },
     "metadata": {
      "needs_background": "light"
     },
     "output_type": "display_data"
    }
   ],
   "source": [
    "sns.boxplot(x = 'monetary_impact', data = grams_df_by_cat['technology'])"
   ]
  },
  {
   "cell_type": "code",
   "execution_count": null,
   "metadata": {},
   "outputs": [],
   "source": []
  }
 ],
 "metadata": {
  "kernelspec": {
   "display_name": "Python 3",
   "language": "python",
   "name": "python3"
  },
  "language_info": {
   "codemirror_mode": {
    "name": "ipython",
    "version": 3
   },
   "file_extension": ".py",
   "mimetype": "text/x-python",
   "name": "python",
   "nbconvert_exporter": "python",
   "pygments_lexer": "ipython3",
   "version": "3.7.3"
  }
 },
 "nbformat": 4,
 "nbformat_minor": 2
}
