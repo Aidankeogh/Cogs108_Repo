{
 "cells": [
  {
   "cell_type": "code",
   "execution_count": 1,
   "metadata": {
    "collapsed": true
   },
   "outputs": [],
   "source": [
    "from preprocessor import *\n",
    "import numpy as np\n",
    "import pandas as pd\n",
    "import matplotlib.pyplot as plt\n",
    "\n",
    "from sklearn import linear_model\n",
    "from sklearn.metrics import mean_squared_error"
   ]
  },
  {
   "cell_type": "code",
   "execution_count": 11,
   "metadata": {},
   "outputs": [],
   "source": [
    "def build_feats(projects, category):\n",
    "    \n",
    "    # Find and print most common unigrams and bigrams in category\n",
    "    grams = grams_by_category(projects, category, do_print=False)\n",
    "\n",
    "    # Map grams to unique index for easy vectorization\n",
    "    grams_to_idx = map_gram_to_idx(grams)\n",
    "\n",
    "    # Map unique index to gram to quickly convert vectorization to txt\n",
    "    idx_to_grams = [0] * len(grams_to_idx)\n",
    "\n",
    "    for gram, idx in grams_to_idx.items():\n",
    "        idx_to_grams[idx] = gram\n",
    "        \n",
    "    # Build feats + labels for model training\n",
    "    feats = []\n",
    "    labels = []\n",
    "\n",
    "    for project in projects:\n",
    "        if project['category'][0] == category or category == 'all':\n",
    "            encoding = vectorize(project, grams_to_idx)\n",
    "\n",
    "            # Label represents amt pledged\n",
    "            label = project['pledged']\n",
    "\n",
    "            feats.append(encoding)\n",
    "            labels.append(label)\n",
    "            \n",
    "    return idx_to_grams, feats, labels"
   ]
  },
  {
   "cell_type": "code",
   "execution_count": 13,
   "metadata": {
    "collapsed": true
   },
   "outputs": [],
   "source": [
    "def create_model(projects, category, validate=False):\n",
    "            \n",
    "    idx_to_grams, feats, labels = build_feats(projects, category)\n",
    "            \n",
    "    # 90-10 split feats and labels; 90% training data and 10% test data\n",
    "    feats_train = feats[:int(len(feats) * .9)]\n",
    "    feats_test  = feats[int(len(feats) * .9):]\n",
    "\n",
    "    labels_train = labels[:int(len(labels) * .9)]\n",
    "    labels_test  = labels[int(len(labels) * .9):]\n",
    "    \n",
    "    model = linear_model.Ridge(alpha=1000)     # Initialize model\n",
    "    model.fit(feats_train, labels_train)       # Train model\n",
    "    \n",
    "    # If validate=True, then validate model using 10% of data\n",
    "    if validate:\n",
    "        predictions = model.predict(feats_test)\n",
    "        \n",
    "        MSE = mean_squared_error(predictions, labels_test)\n",
    "        print(\"MSE:\", MSE)\n",
    "        \n",
    "    word_corrs = sorted(zip(idx_to_grams, model.coef_), key=lambda t: -t[1])\n",
    "        \n",
    "    return model, word_corrs"
   ]
  },
  {
   "cell_type": "code",
   "execution_count": 14,
   "metadata": {
    "collapsed": true
   },
   "outputs": [],
   "source": [
    "projects = read_data()"
   ]
  },
  {
   "cell_type": "code",
   "execution_count": 15,
   "metadata": {},
   "outputs": [],
   "source": [
    "all_categories = []\n",
    "\n",
    "# Get list of all possible categories\n",
    "for project in projects:\n",
    "    for category in project['category']:\n",
    "        all_categories.append(category)\n",
    "        \n",
    "all_categories = nltk.FreqDist(all_categories)\n",
    "\n",
    "# Get top-10 categories\n",
    "top_10_categories = [category[0] for category in all_categories.most_common(10)]"
   ]
  },
  {
   "cell_type": "code",
   "execution_count": 47,
   "metadata": {},
   "outputs": [
    {
     "name": "stdout",
     "output_type": "stream",
     "text": [
      "film & video\n",
      "['animate', 'documentary', 'bring', 'back', 'episode', 'new', '...', 'need help', 'star', 'movie']\n",
      "music\n",
      "['new', 'new album', 'album', 'join', 'record', 'studio album', 'make', 'play', 'part', 'two']\n",
      "technology\n",
      "['smart', 'first', 'camera', 'world first', 'affordable', 'world', '3d printer', 'printer', '3d', 'power']\n",
      "art\n",
      "['book', 'public', 'public art', 'tarot', 'art book', 'deck', 'bring', 'feature', 'man', 'build']\n",
      "publishing\n",
      "['art', 'book', 'world', 'great', 'art book', 'artist', 'girl', 'fairy tale', 'inspire', 'guide']\n",
      "food\n",
      "['brewing', 'chef', 'craft', 'first', 'beer', 'kitchen', 'restaurant', 'home', 'base', 'build']\n",
      "games\n",
      "['board game', 'board', '1 4', '1', 'set', 'new', '4 player', 'world', '4', 'game set']\n",
      "fashion\n",
      "['jacket', '<SOS> world', 'world', 'feature', 'world good', 'good', 'dress', 'shoe', 'comfortable', 'price']\n",
      "design\n",
      "['travel', 'system', 'smart', 'backpack', 'world', 'carry', 'watch', 'ultimate', 'tool', 'automatic']\n",
      "comics\n",
      "['hardcover', 'volume', 'webcomic', 'collection', 'year', 'death', 'print', 'book', 'new', 'award win']\n"
     ]
    }
   ],
   "source": [
    "models = {}\n",
    "\n",
    "for category in top_10_categories:\n",
    "    temp = {}\n",
    "    \n",
    "    LR, corrs = create_model(projects,category)\n",
    "    \n",
    "    temp['grams'] = [t[0] for t in corrs[:10]] + [t[0] for t in corrs[-1:-10:-1]]\n",
    "    temp['monetary_impact'] = [t[1] for t in corrs[:10]] + [t[1] for t in corrs[-1:-10:-1]]\n",
    "    \n",
    "    temp['intercept'] = LR.intercept_\n",
    "    temp['goal_vs_raised'] = LR.coef_[-1]\n",
    "    \n",
    "    models[category] = pd.DataFrame(temp)\n",
    "    "
   ]
  },
  {
   "cell_type": "code",
   "execution_count": 66,
   "metadata": {},
   "outputs": [],
   "source": [
    "df = pd.concat(models, axis=1, keys=top_10_categories)"
   ]
  },
  {
   "cell_type": "markdown",
   "metadata": {},
   "source": [
    "\n",
    "plt.figure(figsize=(20,10))\n",
    "plt.bar(df_top['Gram'], df_top['Monetary Impact']) \n",
    "plt.xlabel(\"Gram\") \n",
    "plt.ylabel(\"Monetary Impact\") \n",
    "plt.show() "
   ]
  },
  {
   "cell_type": "code",
   "execution_count": null,
   "metadata": {
    "collapsed": true
   },
   "outputs": [],
   "source": [
    "\n",
    "plt.figure(figsize=(20,10))\n",
    "plt.bar(df_bottom['Gram'], df_bottom['Monetary Impact']) \n",
    "plt.xlabel(\"Gram\") \n",
    "plt.ylabel(\"Monetary Impact\")\n",
    "plt.figure(figsize=(20,10))\n",
    "plt.show() "
   ]
  },
  {
   "cell_type": "code",
   "execution_count": null,
   "metadata": {
    "collapsed": true
   },
   "outputs": [],
   "source": [
    "# Actual project finder. If you're confused by a word, check this out\n",
    "word = 'camera'\n",
    "category = 'games'\n",
    "for i in range(len(projects)):\n",
    "    if word in projects[i]['text_feats'] and category in projects[i]['category']:\n",
    "        print(projects[i]['text'])\n",
    "        print(projects[i]['pledged'], \"$ / \", projects[i]['goal'], \"$\")\n",
    "        print()"
   ]
  },
  {
   "cell_type": "code",
   "execution_count": null,
   "metadata": {
    "collapsed": true
   },
   "outputs": [],
   "source": []
  },
  {
   "cell_type": "code",
   "execution_count": null,
   "metadata": {
    "collapsed": true
   },
   "outputs": [],
   "source": []
  }
 ],
 "metadata": {
  "kernelspec": {
   "display_name": "Python 3",
   "language": "python",
   "name": "python3"
  },
  "language_info": {
   "codemirror_mode": {
    "name": "ipython",
    "version": 3
   },
   "file_extension": ".py",
   "mimetype": "text/x-python",
   "name": "python",
   "nbconvert_exporter": "python",
   "pygments_lexer": "ipython3",
   "version": "3.6.5"
  }
 },
 "nbformat": 4,
 "nbformat_minor": 2
}
