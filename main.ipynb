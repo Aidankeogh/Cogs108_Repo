{
 "cells": [
  {
   "cell_type": "code",
   "execution_count": null,
   "metadata": {},
   "outputs": [],
   "source": [
    "import import_ipynb\n",
    "from preprocessor import *\n",
    "\n",
    "import numpy as np\n",
    "import pandas as pd\n",
    "import matplotlib.pyplot as plt\n",
    "\n",
    "from sklearn import linear_model"
   ]
  },
  {
   "cell_type": "code",
   "execution_count": null,
   "metadata": {
    "collapsed": true
   },
   "outputs": [],
   "source": [
    "projects = read_data()\n",
    "category = \"technology\""
   ]
  },
  {
   "cell_type": "code",
   "execution_count": null,
   "metadata": {},
   "outputs": [],
   "source": [
    "# Choose and print out a random sample from the set\n",
    "i = random.randint(0, len(projects)) \n",
    "\n",
    "print projects[i]['text']\n",
    "print\n",
    "print projects[i]['text_feats']\n",
    "print\n",
    "print projects[i]['category']\n",
    "print\n",
    "print projects[i]['pledged'], \"$ / \", projects[i]['goal'], \"$\""
   ]
  },
  {
   "cell_type": "code",
   "execution_count": null,
   "metadata": {
    "collapsed": true
   },
   "outputs": [],
   "source": [
    "# Find and print most common uni-, bi-, and trigrams in category\n",
    "grams = grams_by_category(projects, category, do_print=False)\n",
    "\n",
    "# Map grams to unique index for easy vectorization\n",
    "grams_to_idx = map_gram_to_idx(grams)\n",
    "\n",
    "# Map unique index to gram to quickly convert vectorization to txt\n",
    "idx_to_grams = [0] * len(grams_to_idx)\n",
    "\n",
    "for gram, idx in grams_to_idx.iteritems():\n",
    "    idx_to_grams[idx] = gram"
   ]
  },
  {
   "cell_type": "code",
   "execution_count": null,
   "metadata": {
    "collapsed": true
   },
   "outputs": [],
   "source": [
    "# Build feats + labels for model training\n",
    "feats = []\n",
    "labels = []\n",
    "\n",
    "for project in projects:\n",
    "    \n",
    "    if project['category'][0] == unicode(category, \"utf-8\"):\n",
    "        # Project encoding indicates which of the uni-, bi-, and \n",
    "        # trigrams in 'text_feats' are in the n-most common grams\n",
    "        # for the category\n",
    "        encoding = vectorize(project['text_feats'], grams_to_idx)\n",
    "        \n",
    "        # Label represents amt pledged\n",
    "        label = project['pledged']\n",
    "        \n",
    "        feats.append(encoding)\n",
    "        labels.append(label)"
   ]
  },
  {
   "cell_type": "code",
   "execution_count": null,
   "metadata": {
    "collapsed": true
   },
   "outputs": [],
   "source": [
    "# 90-10 split feats and labels; 90% training data and 10% test data\n",
    "feats_train = feats[:int(len(feats) * .9)]\n",
    "feats_test  = feats[int(len(feats) * .9):]\n",
    "\n",
    "labels_train = labels[:int(len(labels) * .9)]\n",
    "labels_test  = labels[int(len(labels) * .9):]"
   ]
  },
  {
   "cell_type": "code",
   "execution_count": null,
   "metadata": {},
   "outputs": [],
   "source": [
    "# Train model\n",
    "LR = linear_model.Ridge(alpha=1000)\n",
    "LR.fit(feats_train, labels_train)"
   ]
  },
  {
   "cell_type": "code",
   "execution_count": null,
   "metadata": {},
   "outputs": [],
   "source": [
    "print \"Expected pledge amt. with missing project txt: %.2f\" % LR.intercept_\n",
    "print "
   ]
  },
  {
   "cell_type": "code",
   "execution_count": null,
   "metadata": {},
   "outputs": [],
   "source": [
    "zipped = zip(idx_to_grams, LR.coef_)\n",
    "zipped.sort(key = lambda t: -t[1])\n",
    "\n",
    "df = pd.DataFrame(zipped, columns=[\"Gram\", \"Monetary Impact\"])\n",
    "df.style"
   ]
  },
  {
   "cell_type": "code",
   "execution_count": null,
   "metadata": {
    "collapsed": true
   },
   "outputs": [],
   "source": []
  }
 ],
 "metadata": {
  "kernelspec": {
   "display_name": "Python 2",
   "language": "python",
   "name": "python2"
  },
  "language_info": {
   "codemirror_mode": {
    "name": "ipython",
    "version": 2
   },
   "file_extension": ".py",
   "mimetype": "text/x-python",
   "name": "python",
   "nbconvert_exporter": "python",
   "pygments_lexer": "ipython2",
   "version": "2.7.15"
  }
 },
 "nbformat": 4,
 "nbformat_minor": 2
}
