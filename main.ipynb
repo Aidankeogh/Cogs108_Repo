{
 "cells": [
  {
   "cell_type": "code",
   "execution_count": null,
   "metadata": {},
   "outputs": [],
   "source": [
    "import import_ipynb\n",
    "from preprocessor import *\n",
    "\n",
    "import numpy as np\n",
    "import pandas as pd\n",
    "import matplotlib.pyplot as plt\n",
    "\n",
    "from sklearn import linear_model"
   ]
  },
  {
   "cell_type": "code",
   "execution_count": null,
   "metadata": {},
   "outputs": [],
   "source": [
    "projects = read_data()\n",
    "category = \"technology\""
   ]
  },
  {
   "cell_type": "code",
   "execution_count": null,
   "metadata": {},
   "outputs": [],
   "source": [
    "# Choose and print out a random sample from the set\n",
    "i = random.randint(0, len(projects)) \n",
    "\n",
    "print projects[i]['text']\n",
    "print\n",
    "print projects[i]['text_feats']\n",
    "print\n",
    "print projects[i]['category']\n",
    "print\n",
    "print projects[i]['pledged'], \"$ / \", projects[i]['goal'], \"$\""
   ]
  },
  {
   "cell_type": "code",
   "execution_count": null,
   "metadata": {},
   "outputs": [],
   "source": [
    "# Find and print most common uni-, bi-, and trigrams in category\n",
    "grams = grams_by_category(projects, 'technology', do_print=False)\n",
    "\n",
    "# Map grams to unique index for easy vectorization\n",
    "grams_to_idx = map_gram_to_idx(grams)"
   ]
  },
  {
   "cell_type": "code",
   "execution_count": null,
   "metadata": {},
   "outputs": [],
   "source": [
    "# Build feats + labels for model training\n",
    "feats = []\n",
    "labels = []\n",
    "\n",
    "for project in projects:\n",
    "    \n",
    "    if project['category'][0] == unicode(category, \"utf-8\"):\n",
    "        # Project encoding indicates which of the uni-, bi-, and \n",
    "        # trigrams in 'text_feats' are in the n-most common grams\n",
    "        # for the category\n",
    "        encoding = vectorize(project['text_feats'], grams_to_idx)\n",
    "        \n",
    "        # Label represents amt pledged\n",
    "        label = project['pledged']\n",
    "        \n",
    "        feats.append(encoding)\n",
    "        labels.append(label)"
   ]
  },
  {
   "cell_type": "code",
   "execution_count": null,
   "metadata": {
    "collapsed": true
   },
   "outputs": [],
   "source": [
    "# 90-10 split feats and labels; 90% training data and 10% test data\n",
    "feats_train = feats[:int(len(feats) * .9)]\n",
    "feats_test  = feats[int(len(feats) * .9):]\n",
    "\n",
    "labels_train = labels[:int(len(labels) * .9)]\n",
    "labels_test  = labels[int(len(labels) * .9):]"
   ]
  },
  {
   "cell_type": "code",
   "execution_count": null,
   "metadata": {},
   "outputs": [],
   "source": [
    "LR = linear_model.LinearRegression()\n",
    "LR.fit(feats_train, labels_train)"
   ]
  },
  {
   "cell_type": "code",
   "execution_count": null,
   "metadata": {
    "collapsed": true
   },
   "outputs": [],
   "source": []
  }
 ],
 "metadata": {
  "kernelspec": {
   "display_name": "Python 2",
   "language": "python",
   "name": "python2"
  },
  "language_info": {
   "codemirror_mode": {
    "name": "ipython",
    "version": 2
   },
   "file_extension": ".py",
   "mimetype": "text/x-python",
   "name": "python",
   "nbconvert_exporter": "python",
   "pygments_lexer": "ipython2",
   "version": "2.7.15"
  }
 },
 "nbformat": 4,
 "nbformat_minor": 2
}
